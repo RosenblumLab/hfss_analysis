{
 "cells": [
  {
   "cell_type": "markdown",
   "metadata": {},
   "source": [
    "# SRF Cavity - Losses Summary\n",
    "\n",
    "This notebook summarizes main loss channels and their estimated impact on the half-TESLA cavity, used for quantum information processing. The limitations to the total quality factor should be summed over all loss channels, i.e.\n",
    "$$\\dfrac{1}{Q_\\text{total}} = \\sum _i \\dfrac{1}{Q_i}.$$\n",
    "However, here some loss channels are modeled repeatedly using different methods. The transmon effect on the cavity mode, for example, is modeled by adding resistance to the transmon or by making the sapphire bulk lossy, but these limitations should not be summed together.\n",
    "\n",
    "\n",
    "\n"
   ]
  },
  {
   "cell_type": "code",
   "execution_count": 1,
   "metadata": {},
   "outputs": [],
   "source": [
    "import cavity_losses\n",
    "project = cavity_losses.HFSSproject(project_path = '.',\n",
    "                             project_name = 'CavityLosses')"
   ]
  },
  {
   "cell_type": "markdown",
   "metadata": {},
   "source": [
    "## Seam Loss\n",
    "Here we use the equation $$\\dfrac{1}{Q_{\\text{seam}}} = \\dfrac{L}{G_{\\text{seam}}} \\left[ \n",
    "\\dfrac{\\int _{\\text{seam}} \\left| \\vec{J}_s \\times \\hat{l}\\right|^{2}dl}{\\omega  \\int _{\\text{total}} \\mu_0 \\left|\\vec{H}\\right|^2 dV}\n",
    "\\right]    = \\dfrac{y_{\\text{seam}} }{g_{\\text{seam}}},$$\n",
    "with the value $g_{\\text{seam}}=10^{6} \\ 1/\\Omega m$ estimated from Brecht's thesis."
   ]
  },
  {
   "cell_type": "code",
   "execution_count": 2,
   "metadata": {},
   "outputs": [
    {
     "name": "stderr",
     "output_type": "stream",
     "text": [
      "INFO 10:16AM [connect]: Connecting to Ansys Desktop API...\n",
      "INFO 10:16AM [load_ansys_project]: \tFile path to HFSS project found.\n",
      "INFO 10:16AM [load_ansys_project]: \tOpened Ansys App\n",
      "INFO 10:16AM [load_ansys_project]: \tOpened Ansys Desktop v2020.2.0\n",
      "INFO 10:16AM [load_ansys_project]: \tOpened Ansys Project\n",
      "\tFolder:    C:/Users/barkayg/Dropbox (Weizmann Institute)/Quantum Circuits Lab/Barkay/SRF Cavity/Simulations/LossesCalculations/LossesCalculationsExample/\n",
      "\tProject:   CavityLosses\n",
      "INFO 10:16AM [connect]: \tOpened active design\n",
      "\tDesign:    SeamLoss [Solution type: Eigenmode]\n",
      "INFO 10:16AM [get_setup]: \tOpened setup `Setup1`  (<class 'pyEPR.ansys.HfssEMSetup'>)\n",
      "INFO 10:16AM [connect]: \tConnection to Ansys established successfully. 😀 \n",
      "\n",
      "INFO 10:16AM [analyze]: Analyzing setup Setup1\n",
      "Design \"SeamLoss\" info:\n",
      "\t# eigenmodes    7\n",
      "\t# variations    1\n",
      "\n",
      "Mode 0 results:\n",
      "y_seam = 1.27e-07 /(Ω*m)\n",
      "Q_seam = 7.87e+12\n",
      "tau_seam = 2.87e+02 s\n",
      "\n",
      "Mode 1 results:\n",
      "y_seam = 2.21e-02 /(Ω*m)\n",
      "Q_seam = 4.52e+07\n",
      "tau_seam = 1.29e-03 s\n",
      "{'mode 0': {'seam_loss': 7873163600822.529}, 'mode 1': {'seam_loss': 45193898.39346187}}\n"
     ]
    }
   ],
   "source": [
    "project.calculate_seam_loss('SeamLoss', modes = [0,1] , g_seam = 1e6, seam_line = 'SeamLine', volume= 'Vacuum')\n",
    "print(project.quality_factors)"
   ]
  },
  {
   "cell_type": "markdown",
   "metadata": {},
   "source": [
    "## Geometry and Filling Factors\n",
    "Here we use the equation $$ G =\\dfrac{\\omega \\mu_0}{\\lambda p_\\text{cond}} =  \\omega \\mu_0 \\dfrac{\\int _{V} \\left|{\\vec{H}}\\right|^2 dv}{\\int _{S} \\left|{\\vec{H}}\\right|^2 ds} \\ , \\ F= \\dfrac{\\int _{V_h} \\epsilon_h \\left|{\\vec{E}}\\right|^2 dv}{\\int _{V} \\epsilon_0 \\left|{\\vec{E}}\\right|^2 dv} \\approx \\dfrac{t_h \\int _{S}  \\left|{\\vec{E}}\\right|^2 / (\\epsilon_h/\\epsilon_0) ds}{\\int _{V}  \\left|{\\vec{E}}\\right|^2 dv},$$\n",
    "with the values $\\epsilon_h = 33 \\epsilon_0$ (https://journals.aps.org/prl/pdf/10.1103/PhysRevLett.119.264801) and $t_h = 5 \\ nm$ dielectric thickness. The nominator integral of the filling factor is divided by the relative premittivity since the electric field ($\\vec{E}$) there is perpendicular to the vacuum-metal interface and hence smaller by that factor. See https://phys.libretexts.org/Bookshelves/Electricity_and_Magnetism/Book%3A_Electricity_and_Magnetism_(Tatum)/05%3A_Capacitors/5.14%3A__Mixed_Dielectrics.\n",
    "\n",
    "We then extrapolate and estimate the quality factor from Romanenko's paper:\n",
    "$$ Q_\\text{TLS} = \\dfrac{F_\\text{Ref} }{F_\\text{Simul}} Q_\\text{Ref}$$"
   ]
  },
  {
   "cell_type": "code",
   "execution_count": 4,
   "metadata": {},
   "outputs": [
    {
     "name": "stderr",
     "output_type": "stream",
     "text": [
      "INFO 10:17AM [connect]: Connecting to Ansys Desktop API...\n",
      "INFO 10:17AM [load_ansys_project]: \tFile path to HFSS project found.\n",
      "INFO 10:17AM [load_ansys_project]: \tOpened Ansys App\n",
      "INFO 10:17AM [load_ansys_project]: \tOpened Ansys Desktop v2020.2.0\n",
      "INFO 10:17AM [load_ansys_project]: \tOpened Ansys Project\n",
      "\tFolder:    C:/Users/barkayg/Dropbox (Weizmann Institute)/Quantum Circuits Lab/Barkay/SRF Cavity/Simulations/LossesCalculations/LossesCalculationsExample/\n",
      "\tProject:   CavityLosses\n",
      "INFO 10:17AM [connect]: \tOpened active design\n",
      "\tDesign:    GF_Factors [Solution type: Eigenmode]\n",
      "INFO 10:17AM [get_setup]: \tOpened setup `Setup1`  (<class 'pyEPR.ansys.HfssEMSetup'>)\n",
      "INFO 10:17AM [connect]: \tConnection to Ansys established successfully. 😀 \n",
      "\n",
      "INFO 10:17AM [analyze]: Analyzing setup Setup1\n",
      "Design \"GF_Factors\" info:\n",
      "\t# eigenmodes    7\n",
      "\t# variations    1\n",
      "\n",
      "Mode 0 results:\n",
      "Geometry factor, G = 211.31 Ω\n",
      "Filling factor, F = 1.3e-08\n",
      "TESLA cavity has G = 270 Ω\n",
      "Romanenko's cavity has approx F = 1.2e-8\n",
      "Estimated quality factor by comparison to Romanenko's cavity is approx Q = 1.64e+10\n"
     ]
    }
   ],
   "source": [
    "project.calculate_GF_factors('GF_Factors', epsilon_r = 33, t_h = 5e-9, volume= 'Vacuum', modes = [0])\n",
    "\n",
    "print('TESLA cavity has G = 270 Ω') #10.1103/physrevstab.3.092001\n",
    "print(\"Romanenko's cavity has approx F = 1.2e-8\") #10.1103/PhysRevApplied.13.034032\n",
    "Q = 1/(5.6e-11 * (project.quality_factors['mode 0']['filling_factor'] / 1.2e-8))\n",
    "print(f\"Estimated quality factor by comparison to Romanenko's cavity is approx Q = {Q:.3}\")"
   ]
  },
  {
   "cell_type": "markdown",
   "metadata": {},
   "source": [
    "## Surface Losses - not calculated in this notebook!\n",
    "Here we calculate the surface participation ratios in order to estimate the losses due to them. \n",
    "The estimation is a very rough one, unlike the more complex, and probably more accurate, method used in http://aip.scitation.org/doi/10.1063/1.4934486. \n",
    "\n",
    "Similar to the calculation of the filling factor in the previous subsection we now calculate the participation ratio as\n",
    "$$    p_i = \\dfrac{t \\int_{S_i} \\left| \\vec{E} \\cdot ( \\vec{E}_\\bot /\\epsilon_r + \\vec{E}_\\parallel \\times \\epsilon_r) \\right| ^{2} ds}{\\int _{V} \\left|\\vec{E}\\right| ^2 dv},$$\n",
    "where $i$ is the index of the interface over which the integral is done (MA, MS or SA). We use the values $\\epsilon = 10 \\epsilon_0$ and $t=3$ nm.\n",
    "\n",
    "The upper bound to the quality factor is then inversely-proportional to this participation ratio, i.e.\n",
    "$$ Q_i \\leq \\dfrac{1}{p_i \\tan \\delta_i}.$$\n",
    "For that we use upper bounds $\\tan \\delta_{MS} = 2.6 \\times 10^{-3}, \\ \\tan \\delta_{MA} = 2.1 \\times 10^{-2}$ and $\\tan \\delta_{SA} = 2.2 \\times 10^{-3}$. "
   ]
  },
  {
   "cell_type": "markdown",
   "metadata": {},
   "source": [
    "## Hybridization with Resistive Transmon\n",
    "Here we add resistance to the transmon in parallel to the Josephson inductance. This is made in order to model the actual lifetime of a transmon qubit, which is much lower than the $Q \\sim 10^{12}$ predicted by the classical HFSS analysis.  "
   ]
  },
  {
   "cell_type": "code",
   "execution_count": 5,
   "metadata": {},
   "outputs": [
    {
     "name": "stderr",
     "output_type": "stream",
     "text": [
      "INFO 10:17AM [connect]: Connecting to Ansys Desktop API...\n",
      "INFO 10:17AM [load_ansys_project]: \tFile path to HFSS project found.\n",
      "INFO 10:17AM [load_ansys_project]: \tOpened Ansys App\n",
      "INFO 10:17AM [load_ansys_project]: \tOpened Ansys Desktop v2020.2.0\n",
      "INFO 10:17AM [load_ansys_project]: \tOpened Ansys Project\n",
      "\tFolder:    C:/Users/barkayg/Dropbox (Weizmann Institute)/Quantum Circuits Lab/Barkay/SRF Cavity/Simulations/LossesCalculations/LossesCalculationsExample/\n",
      "\tProject:   CavityLosses\n",
      "INFO 10:17AM [connect]: \tOpened active design\n",
      "\tDesign:    ResistiveTransmon [Solution type: Eigenmode]\n",
      "INFO 10:17AM [get_setup]: \tOpened setup `Setup1`  (<class 'pyEPR.ansys.HfssEMSetup'>)\n",
      "INFO 10:17AM [connect]: \tConnection to Ansys established successfully. 😀 \n",
      "\n",
      "INFO 10:17AM [analyze]: Analyzing setup Setup1\n",
      "Design \"ResistiveTransmon\" info:\n",
      "\t# eigenmodes    7\n",
      "\t# variations    1\n",
      "      Freq. (GHz)  Quality Factor   Lifetime (s)\n",
      "mode                                            \n",
      "0        4.371611    1.982010e+10       0.721580\n",
      "1        5.594069    6.770933e+05       0.000019\n",
      "2        6.492349    1.029075e+13     252.269833\n",
      "3        6.494659    4.577705e+15  112178.998769\n",
      "4        7.766838    1.826684e+12      37.431681\n",
      "5        7.767041    1.296331e+12      26.563204\n",
      "6        8.098608    7.729723e+07       0.001519\n"
     ]
    }
   ],
   "source": [
    "project.get_quality_factor(design_name='ResistiveTransmon', modes = [0,1], print_results=True)"
   ]
  },
  {
   "cell_type": "markdown",
   "metadata": {},
   "source": [
    "## Sapphire Bulk Loss\n",
    "Here we add loss tangent to the sapphire chip. This is made in order to model the actual lifetime of a transmon qubit, which is much lower than the $Q \\sim 10^{12}$ predicted by the classical HFSS analysis.  \n",
    "Then we compare the effect of this loss tangent on the transmon mode and the cavity mode and calculate the ratio $Q_{cavity}/Q_{transmon}$."
   ]
  },
  {
   "cell_type": "code",
   "execution_count": 6,
   "metadata": {},
   "outputs": [
    {
     "name": "stderr",
     "output_type": "stream",
     "text": [
      "INFO 10:17AM [connect]: Connecting to Ansys Desktop API...\n",
      "INFO 10:17AM [load_ansys_project]: \tFile path to HFSS project found.\n",
      "INFO 10:17AM [load_ansys_project]: \tOpened Ansys App\n",
      "INFO 10:17AM [load_ansys_project]: \tOpened Ansys Desktop v2020.2.0\n",
      "INFO 10:17AM [load_ansys_project]: \tOpened Ansys Project\n",
      "\tFolder:    C:/Users/barkayg/Dropbox (Weizmann Institute)/Quantum Circuits Lab/Barkay/SRF Cavity/Simulations/LossesCalculations/LossesCalculationsExample/\n",
      "\tProject:   CavityLosses\n",
      "INFO 10:17AM [connect]: \tOpened active design\n",
      "\tDesign:    SapphireBulkLoss [Solution type: Eigenmode]\n",
      "INFO 10:17AM [get_setup]: \tOpened setup `Setup1`  (<class 'pyEPR.ansys.HfssEMSetup'>)\n",
      "INFO 10:17AM [connect]: \tConnection to Ansys established successfully. 😀 \n",
      "\n",
      "INFO 10:17AM [analyze]: Analyzing setup Setup1\n",
      "Design \"SapphireBulkLoss\" info:\n",
      "\t# eigenmodes    7\n",
      "\t# variations    1\n",
      "      Freq. (GHz)  Quality Factor  Lifetime (s)\n",
      "mode                                           \n",
      "0        4.371560    2.295939e+10      0.835880\n",
      "1        5.592828    3.026209e+06      0.000086\n",
      "2        6.492519    3.355849e+13    822.639203\n",
      "3        6.494746    2.059041e+13    504.571718\n",
      "4        7.767095    1.646207e+12     33.732304\n",
      "5        7.767332    2.966800e+12     60.790615\n",
      "6        8.099989    5.044602e+06      0.000099\n"
     ]
    }
   ],
   "source": [
    "project.get_quality_factor(design_name='SapphireBulkLoss', modes = [0,1], print_results=True)"
   ]
  },
  {
   "cell_type": "markdown",
   "metadata": {},
   "source": [
    "## Coupling Losses\n",
    "Here we add coupling losses. Three coupling pins are present in the device and each one of them causes quality degradations when it is \"turned-on\" by making it a $50 \\Omega$ resistive terminator. We get each coupling quality factor separately and then the quality factor when they are all active. One should verify that\n",
    "$$Q^{-1}_\\text{Ctotal} \\approx Q^{-1}_\\text{Creadout} + Q^{-1}_\\text{Cdrive} + Q^{-1}_\\text{Ccavity}. $$"
   ]
  },
  {
   "cell_type": "markdown",
   "metadata": {},
   "source": [
    "### Readout Pin Coupling Loss"
   ]
  },
  {
   "cell_type": "code",
   "execution_count": 7,
   "metadata": {},
   "outputs": [
    {
     "name": "stderr",
     "output_type": "stream",
     "text": [
      "INFO 10:17AM [connect]: Connecting to Ansys Desktop API...\n",
      "INFO 10:17AM [load_ansys_project]: \tFile path to HFSS project found.\n",
      "INFO 10:17AM [load_ansys_project]: \tOpened Ansys App\n",
      "INFO 10:17AM [load_ansys_project]: \tOpened Ansys Desktop v2020.2.0\n",
      "INFO 10:17AM [load_ansys_project]: \tOpened Ansys Project\n",
      "\tFolder:    C:/Users/barkayg/Dropbox (Weizmann Institute)/Quantum Circuits Lab/Barkay/SRF Cavity/Simulations/LossesCalculations/LossesCalculationsExample/\n",
      "\tProject:   CavityLosses\n",
      "INFO 10:17AM [connect]: \tOpened active design\n",
      "\tDesign:    CouplingReadoutPin [Solution type: Eigenmode]\n",
      "INFO 10:17AM [get_setup]: \tOpened setup `Setup1`  (<class 'pyEPR.ansys.HfssEMSetup'>)\n",
      "INFO 10:17AM [connect]: \tConnection to Ansys established successfully. 😀 \n",
      "\n",
      "INFO 10:17AM [analyze]: Analyzing setup Setup1\n",
      "Design \"CouplingReadoutPin\" info:\n",
      "\t# eigenmodes    7\n",
      "\t# variations    1\n",
      "      Freq. (GHz)  Quality Factor  Lifetime (s)\n",
      "mode                                           \n",
      "0        4.371596    3.548972e+10  1.292060e+00\n",
      "1        5.593939    7.335092e+06  2.086931e-04\n",
      "2        6.492322    8.660530e+12  2.123071e+02\n",
      "3        6.494675    6.353989e+12  1.557074e+02\n",
      "4        7.766816    6.997653e+07  1.433935e-03\n",
      "5        7.767053    6.290821e+07  1.289054e-03\n",
      "6        8.098346    3.462462e+04  6.804697e-07\n"
     ]
    }
   ],
   "source": [
    "project.get_quality_factor(design_name='CouplingReadoutPin', modes = [0,1], print_results=True)"
   ]
  },
  {
   "cell_type": "markdown",
   "metadata": {},
   "source": [
    "### Drive Pin Coupling Loss"
   ]
  },
  {
   "cell_type": "code",
   "execution_count": 8,
   "metadata": {},
   "outputs": [
    {
     "name": "stderr",
     "output_type": "stream",
     "text": [
      "INFO 10:17AM [connect]: Connecting to Ansys Desktop API...\n",
      "INFO 10:17AM [load_ansys_project]: \tFile path to HFSS project found.\n",
      "INFO 10:17AM [load_ansys_project]: \tOpened Ansys App\n",
      "INFO 10:17AM [load_ansys_project]: \tOpened Ansys Desktop v2020.2.0\n",
      "INFO 10:17AM [load_ansys_project]: \tOpened Ansys Project\n",
      "\tFolder:    C:/Users/barkayg/Dropbox (Weizmann Institute)/Quantum Circuits Lab/Barkay/SRF Cavity/Simulations/LossesCalculations/LossesCalculationsExample/\n",
      "\tProject:   CavityLosses\n",
      "INFO 10:17AM [connect]: \tOpened active design\n",
      "\tDesign:    CouplingDrivePin [Solution type: Eigenmode]\n",
      "INFO 10:17AM [get_setup]: \tOpened setup `Setup1`  (<class 'pyEPR.ansys.HfssEMSetup'>)\n",
      "INFO 10:17AM [connect]: \tConnection to Ansys established successfully. 😀 \n",
      "\n",
      "INFO 10:17AM [analyze]: Analyzing setup Setup1\n",
      "Design \"CouplingDrivePin\" info:\n",
      "\t# eigenmodes    7\n",
      "\t# variations    1\n",
      "      Freq. (GHz)  Quality Factor  Lifetime (s)\n",
      "mode                                           \n",
      "0        4.371605    6.293457e+11     22.912289\n",
      "1        5.593498    2.230035e+08      0.006345\n",
      "2        6.492383    8.293769e+12    203.314295\n",
      "3        6.494639    6.108951e+12    149.703444\n",
      "4        7.766815    2.761059e+07      0.000566\n",
      "5        7.767099    4.176421e+07      0.000856\n",
      "6        8.098322    3.183250e+07      0.000626\n"
     ]
    }
   ],
   "source": [
    "project.get_quality_factor(design_name='CouplingDrivePin', modes = [0,1], print_results=True)"
   ]
  },
  {
   "cell_type": "markdown",
   "metadata": {},
   "source": [
    "### Cavity Pin Coupling Loss"
   ]
  },
  {
   "cell_type": "code",
   "execution_count": 9,
   "metadata": {},
   "outputs": [
    {
     "name": "stderr",
     "output_type": "stream",
     "text": [
      "INFO 10:17AM [connect]: Connecting to Ansys Desktop API...\n",
      "INFO 10:17AM [load_ansys_project]: \tFile path to HFSS project found.\n",
      "INFO 10:17AM [load_ansys_project]: \tOpened Ansys App\n",
      "INFO 10:17AM [load_ansys_project]: \tOpened Ansys Desktop v2020.2.0\n",
      "INFO 10:17AM [load_ansys_project]: \tOpened Ansys Project\n",
      "\tFolder:    C:/Users/barkayg/Dropbox (Weizmann Institute)/Quantum Circuits Lab/Barkay/SRF Cavity/Simulations/LossesCalculations/LossesCalculationsExample/\n",
      "\tProject:   CavityLosses\n",
      "INFO 10:17AM [connect]: \tOpened active design\n",
      "\tDesign:    CouplingCavityPin [Solution type: Eigenmode]\n",
      "INFO 10:17AM [get_setup]: \tOpened setup `Setup1`  (<class 'pyEPR.ansys.HfssEMSetup'>)\n",
      "INFO 10:17AM [connect]: \tConnection to Ansys established successfully. 😀 \n",
      "\n",
      "INFO 10:17AM [analyze]: Analyzing setup Setup1\n",
      "Design \"CouplingCavityPin\" info:\n",
      "\t# eigenmodes    7\n",
      "\t# variations    1\n",
      "      Freq. (GHz)  Quality Factor  Lifetime (s)\n",
      "mode                                           \n",
      "0        4.371597    6.456899e+09      0.235074\n",
      "1        5.593068    2.449214e+12     69.694205\n",
      "2        6.492419    1.235488e+08      0.003029\n",
      "3        6.494674    1.109926e+08      0.002720\n",
      "4        7.766873    5.961023e+07      0.001222\n",
      "5        7.767166    1.897178e+07      0.000389\n",
      "6        8.098257    4.305420e+08      0.008461\n"
     ]
    }
   ],
   "source": [
    "project.get_quality_factor(design_name='CouplingCavityPin', modes = [0,1], print_results=True)"
   ]
  },
  {
   "cell_type": "code",
   "execution_count": 10,
   "metadata": {},
   "outputs": [
    {
     "name": "stdout",
     "output_type": "stream",
     "text": [
      "|                    |        mode 0 |           mode 1 |\n",
      "|:-------------------|--------------:|-----------------:|\n",
      "| seam_loss          |   7.87316e+12 |      4.51939e+07 |\n",
      "| geometry_factor    | 211.309       |    nan           |\n",
      "| filling_factor     |   1.30487e-08 |    nan           |\n",
      "| ResistiveTransmon  |   1.98201e+10 | 677093           |\n",
      "| SapphireBulkLoss   |   2.29594e+10 |      3.02621e+06 |\n",
      "| CouplingReadoutPin |   3.54897e+10 |      7.33509e+06 |\n",
      "| CouplingDrivePin   |   6.29346e+11 |      2.23004e+08 |\n",
      "| CouplingCavityPin  |   6.4569e+09  |      2.44921e+12 |\n"
     ]
    }
   ],
   "source": [
    "import pandas as pd\n",
    "df = pd.DataFrame.from_dict(project.quality_factors)\n",
    "print(df.to_markdown())"
   ]
  }
 ],
 "metadata": {
  "kernelspec": {
   "display_name": "Python 3.11.0 64-bit",
   "language": "python",
   "name": "python3"
  },
  "language_info": {
   "codemirror_mode": {
    "name": "ipython",
    "version": 3
   },
   "file_extension": ".py",
   "mimetype": "text/x-python",
   "name": "python",
   "nbconvert_exporter": "python",
   "pygments_lexer": "ipython3",
   "version": "3.11.0"
  },
  "vscode": {
   "interpreter": {
    "hash": "a1accdfdaa0a0a531181efbfc01efbd83d90d6c54703d609631b05cc8ab5d80e"
   }
  }
 },
 "nbformat": 4,
 "nbformat_minor": 4
}
