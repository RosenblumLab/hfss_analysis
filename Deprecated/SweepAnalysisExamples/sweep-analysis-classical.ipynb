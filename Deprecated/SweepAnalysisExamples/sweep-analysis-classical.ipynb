{
 "cells": [
  {
   "cell_type": "markdown",
   "metadata": {},
   "source": [
    "## Sweeping over a paramter range in HFSS 🧹\n",
    "\n",
    "Analyzing the cavity is nice and all, but it very likely that you'll want to modify and optimize the cavity and it's properties for your needs. For this you can\n",
    "simulate many different possibilities and choose the best paramters for you.\n",
    "\n",
    "Let's say, for example, you want the coupling between the readout resonator and transmon would be around $1$ MHz, what should be the distance between them? Let's check!"
   ]
  },
  {
   "cell_type": "code",
   "execution_count": 1,
   "metadata": {
    "tags": []
   },
   "outputs": [],
   "source": [
    "import numpy as np\n",
    "import matplotlib.pyplot as plt\n",
    "import pandas as pd\n",
    "import pyEPR as epr\n",
    "\n",
    "plt.style.use('ggplot')\n",
    "plt.style.use('seaborn-darkgrid')"
   ]
  },
  {
   "cell_type": "markdown",
   "metadata": {},
   "source": [
    "#### 🔹 Connecting to HFSS"
   ]
  },
  {
   "cell_type": "code",
   "execution_count": 2,
   "metadata": {
    "tags": []
   },
   "outputs": [
    {
     "output_type": "stream",
     "name": "stderr",
     "text": [
      "INFO 05:38PM [connect]: Connecting to Ansys Desktop API...\n",
      "INFO 05:38PM [load_ansys_project]: \tFile path to HFSS project found.\n",
      "INFO 05:38PM [load_ansys_project]: \tOpened Ansys App\n",
      "INFO 05:38PM [load_ansys_project]: \tOpened Ansys Desktop v2020.2.0\n",
      "INFO 05:38PM [load_ansys_project]: \tOpened Ansys Project\n",
      "\tFolder:    E:/CavityLocalSimulations/\n",
      "\tProject:   DesignSimulations\n",
      "INFO 05:38PM [connect]: \tOpened active design\n",
      "\tDesign:    CavityPinLength [Solution type: Eigenmode]\n",
      "INFO 05:38PM [get_setup]: \tOpened setup `Setup1`  (<class 'pyEPR.ansys.HfssEMSetup'>)\n",
      "INFO 05:38PM [connect]: \tConnection to Ansys established successfully. 😀 \n",
      "\n"
     ]
    }
   ],
   "source": [
    "pinfo = epr.Project_Info(project_path = '.', \n",
    "                         project_name = 'DesignSimulations',  # File name\n",
    "                         design_name  = 'CavityPinLength')"
   ]
  },
  {
   "cell_type": "markdown",
   "metadata": {},
   "source": [
    "#### 🧹 Sweep over the parameter"
   ]
  },
  {
   "cell_type": "code",
   "execution_count": 3,
   "metadata": {
    "tags": []
   },
   "outputs": [
    {
     "output_type": "stream",
     "name": "stdout",
     "text": [
      "14.605mm\n"
     ]
    }
   ],
   "source": [
    "pin_length = pinfo.design.get_variable_value('feedthrough_pin_length')\n",
    "print(pin_length)"
   ]
  },
  {
   "cell_type": "code",
   "execution_count": 4,
   "metadata": {
    "tags": []
   },
   "outputs": [
    {
     "output_type": "stream",
     "name": "stderr",
     "text": [
      "INFO 05:38PM [<module>]: Setting sweep variable feedthrough_pin_length=14.605mm\n",
      "INFO 05:38PM [analyze]: Analyzing setup Setup1\n",
      "INFO 05:39PM [<module>]: Setting sweep variable feedthrough_pin_length=15.105mm\n",
      "INFO 05:39PM [analyze]: Analyzing setup Setup1\n",
      "INFO 05:39PM [<module>]: Setting sweep variable feedthrough_pin_length=15.605mm\n",
      "INFO 05:39PM [analyze]: Analyzing setup Setup1\n",
      "INFO 05:39PM [<module>]: Setting sweep variable feedthrough_pin_length=16.105mm\n",
      "INFO 05:39PM [analyze]: Analyzing setup Setup1\n",
      "INFO 05:40PM [<module>]: Setting sweep variable feedthrough_pin_length=16.605mm\n",
      "INFO 05:40PM [analyze]: Analyzing setup Setup1\n",
      "INFO 05:40PM [<module>]: Setting sweep variable feedthrough_pin_length=17.105mm\n",
      "INFO 05:40PM [analyze]: Analyzing setup Setup1\n",
      "INFO 05:40PM [<module>]: Setting sweep variable feedthrough_pin_length=17.605mm\n",
      "INFO 05:40PM [analyze]: Analyzing setup Setup1\n",
      "INFO 05:41PM [<module>]: Setting sweep variable feedthrough_pin_length=18.105mm\n",
      "INFO 05:41PM [analyze]: Analyzing setup Setup1\n",
      "INFO 05:41PM [<module>]: Setting sweep variable feedthrough_pin_length=18.605mm\n",
      "INFO 05:41PM [analyze]: Analyzing setup Setup1\n",
      "INFO 05:41PM [<module>]: Setting sweep variable feedthrough_pin_length=19.105mm\n",
      "INFO 05:41PM [analyze]: Analyzing setup Setup1\n",
      "INFO 05:42PM [<module>]: Setting sweep variable feedthrough_pin_length=19.605mm\n",
      "INFO 05:42PM [analyze]: Analyzing setup Setup1\n",
      "INFO 05:42PM [<module>]: Setting sweep variable feedthrough_pin_length=20.105mm\n",
      "INFO 05:42PM [analyze]: Analyzing setup Setup1\n",
      "INFO 05:42PM [<module>]: Setting sweep variable feedthrough_pin_length=20.605mm\n",
      "INFO 05:42PM [analyze]: Analyzing setup Setup1\n",
      "INFO 05:43PM [<module>]: Setting sweep variable feedthrough_pin_length=21.105mm\n",
      "INFO 05:43PM [analyze]: Analyzing setup Setup1\n",
      "INFO 05:43PM [<module>]: Setting sweep variable feedthrough_pin_length=21.605mm\n",
      "INFO 05:43PM [analyze]: Analyzing setup Setup1\n",
      "INFO 05:44PM [<module>]: Setting sweep variable feedthrough_pin_length=22.105mm\n",
      "INFO 05:44PM [analyze]: Analyzing setup Setup1\n",
      "INFO 05:44PM [<module>]: Setting sweep variable feedthrough_pin_length=22.605mm\n",
      "INFO 05:44PM [analyze]: Analyzing setup Setup1\n",
      "INFO 05:45PM [<module>]: Setting sweep variable feedthrough_pin_length=23.105mm\n",
      "INFO 05:45PM [analyze]: Analyzing setup Setup1\n",
      "INFO 05:46PM [<module>]: Setting sweep variable feedthrough_pin_length=23.605mm\n",
      "INFO 05:46PM [analyze]: Analyzing setup Setup1\n",
      "INFO 05:46PM [<module>]: Setting sweep variable feedthrough_pin_length=24.105mm\n",
      "INFO 05:46PM [analyze]: Analyzing setup Setup1\n",
      "Wall time: 8min 42s\n"
     ]
    }
   ],
   "source": [
    "%%time\n",
    "swp_var = 'feedthrough_pin_length' \n",
    "\n",
    "def to_swp_val(x): return f'{x}mm' \n",
    "\n",
    "start = 14.605\n",
    "stop = 24.105\n",
    "step = 0.5\n",
    "variations_vector = np.arange(start, stop+step, step)\n",
    "for swp_param in variations_vector:\n",
    "    swp_val = to_swp_val(swp_param)\n",
    "    epr.logger.info(f'Setting sweep variable {swp_var}={swp_val}')\n",
    "    pinfo.design.set_variable(swp_var, swp_val)\n",
    "    pinfo.setup.analyze()"
   ]
  },
  {
   "cell_type": "markdown",
   "metadata": {},
   "source": [
    "#### 🔹 Distributed Analysis (not quantum)"
   ]
  },
  {
   "cell_type": "code",
   "execution_count": 5,
   "metadata": {
    "tags": []
   },
   "outputs": [
    {
     "output_type": "stream",
     "name": "stdout",
     "text": [
      "Design \"CavityPinLength\" info:\n\t# eigenmodes    3\n\t# variations    20\n"
     ]
    }
   ],
   "source": [
    "eprh = epr.DistributedAnalysis(pinfo)\n"
   ]
  },
  {
   "source": [
    "Here we plot the quality factors of the transmon and readout resonator modes versus the variation number.\n",
    "We can also check the exact numbers."
   ],
   "cell_type": "markdown",
   "metadata": {}
  },
  {
   "cell_type": "code",
   "execution_count": 10,
   "metadata": {
    "tags": []
   },
   "outputs": [
    {
     "output_type": "stream",
     "name": "stdout",
     "text": [
      "Variation number 0: \n",
      "        Freq. (GHz)  Quality Factor\n",
      "mode                             \n",
      "0        4.368958    6.508614e+09\n",
      "1        6.499695    1.235186e+08\n",
      "2        6.503123    2.663814e+08\n",
      "Variation number 1: \n",
      "        Freq. (GHz)  Quality Factor\n",
      "mode                             \n",
      "0        4.368552    6.039605e+08\n",
      "1        6.501626    3.416306e+07\n",
      "2        6.503718    1.096164e+08\n",
      "Variation number 2: \n",
      "        Freq. (GHz)  Quality Factor\n",
      "mode                             \n",
      "0        4.369535    8.705034e+07\n",
      "1        6.501617    1.866760e+09\n",
      "2        6.503497    1.300816e+08\n",
      "Variation number 3: \n",
      "        Freq. (GHz)  Quality Factor\n",
      "mode                             \n",
      "0        4.369980    1.495537e+08\n",
      "1        6.499681    9.186909e+08\n",
      "2        6.501656    7.380850e+07\n",
      "Variation number 4: \n",
      "        Freq. (GHz)  Quality Factor\n",
      "mode                             \n",
      "0        4.369589    4.952007e+07\n",
      "1        6.501806    7.421924e+07\n",
      "2        6.504118    3.889809e+08\n",
      "Variation number 5: \n",
      "        Freq. (GHz)  Quality Factor\n",
      "mode                             \n",
      "0        4.369102    4.507029e+08\n",
      "1        6.501958    2.942653e+09\n",
      "2        6.503369    1.124394e+08\n",
      "Variation number 6: \n",
      "        Freq. (GHz)  Quality Factor\n",
      "mode                             \n",
      "0        4.369335    6.876081e+07\n",
      "1        6.500903    1.460325e+08\n",
      "2        6.504176    2.944899e+08\n",
      "Variation number 7: \n",
      "        Freq. (GHz)  Quality Factor\n",
      "mode                             \n",
      "0        4.369823    1.515979e+08\n",
      "1        6.500586    6.828173e+08\n",
      "2        6.502530    3.484701e+07\n",
      "Variation number 8: \n",
      "        Freq. (GHz)  Quality Factor\n",
      "mode                             \n",
      "0        4.369355    1.460799e+08\n",
      "1        6.499855    2.830961e+08\n",
      "2        6.504923    1.567055e+08\n",
      "Variation number 9: \n",
      "        Freq. (GHz)  Quality Factor\n",
      "mode                             \n",
      "0        4.369853    1.073283e+08\n",
      "1        6.500204    1.160036e+08\n",
      "2        6.502677    7.490088e+07\n",
      "Variation number 10: \n",
      "        Freq. (GHz)  Quality Factor\n",
      "mode                             \n",
      "0        4.369090    3.835024e+07\n",
      "1        6.499529    1.986469e+08\n",
      "2        6.502550    6.838513e+08\n",
      "Variation number 11: \n",
      "        Freq. (GHz)  Quality Factor\n",
      "mode                             \n",
      "0        4.370542    1.112385e+08\n",
      "1        6.499603    8.279294e+07\n",
      "2        6.503235    4.730595e+07\n",
      "Variation number 12: \n",
      "        Freq. (GHz)  Quality Factor\n",
      "mode                             \n",
      "0        4.370399    4.968193e+07\n",
      "1        6.497885    4.965669e+07\n",
      "2        6.500413    4.795165e+07\n",
      "Variation number 13: \n",
      "        Freq. (GHz)  Quality Factor\n",
      "mode                             \n",
      "0        4.370192    4.689417e+07\n",
      "1        6.496805    2.105261e+09\n",
      "2        6.498773    4.824181e+08\n",
      "Variation number 14: \n",
      "        Freq. (GHz)  Quality Factor\n",
      "mode                             \n",
      "0        4.369792    2.721953e+07\n",
      "1        6.331296    3.691265e+00\n",
      "2        6.496859    7.301747e+07\n",
      "Variation number 15: \n",
      "        Freq. (GHz)  Quality Factor\n",
      "mode                             \n",
      "0        4.370873    1.854886e+07\n",
      "1        6.137869    3.714627e+00\n",
      "2        6.496724    5.313048e+07\n",
      "Variation number 16: \n",
      "        Freq. (GHz)  Quality Factor\n",
      "mode                             \n",
      "0        4.371246    1.341162e+07\n",
      "1        5.958625    3.760456e+00\n",
      "2        6.495852    1.287638e+08\n",
      "Variation number 17: \n",
      "        Freq. (GHz)  Quality Factor\n",
      "mode                             \n",
      "0        4.370789    9.240537e+06\n",
      "1        5.768412    3.699269e+00\n",
      "2        6.496679    2.646081e+09\n",
      "Variation number 18: \n",
      "        Freq. (GHz)  Quality Factor\n",
      "mode                             \n",
      "0        4.370260    5.620401e+06\n",
      "1        5.604582    3.878130e+00\n",
      "2        6.496163    5.031491e+08\n",
      "Variation number 19: \n",
      "        Freq. (GHz)  Quality Factor\n",
      "mode                             \n",
      "0        4.370944    4.051501e+06\n",
      "1        5.439568    3.920046e+00\n",
      "2        6.496224    1.496427e+07\n",
      "Variations vector: [14.605 15.105 15.605 16.105 16.605 17.105 17.605 18.105 18.605 19.105\n",
      " 19.605 20.105 20.605 21.105 21.605 22.105 22.605 23.105 23.605 24.105]\n",
      "Cavity lifetimes: [2.37099565e-01 2.20034699e-02 3.17070141e-03 5.44675402e-03\n",
      " 1.80368553e-03 1.64179268e-02 2.50464256e-03 5.52140155e-03\n",
      " 5.32100004e-03 3.90901677e-03 1.39700269e-03 4.05079287e-03\n",
      " 1.80924539e-03 1.70780590e-03 9.91379433e-04 6.75412703e-04\n",
      " 4.88310635e-04 3.36478662e-04 2.04682235e-04 1.47523384e-04] s\n"
     ]
    },
    {
     "output_type": "display_data",
     "data": {
      "text/plain": "<Figure size 432x864 with 2 Axes>",
      "image/svg+xml": "<?xml version=\"1.0\" encoding=\"utf-8\" standalone=\"no\"?>\r\n<!DOCTYPE svg PUBLIC \"-//W3C//DTD SVG 1.1//EN\"\r\n  \"http://www.w3.org/Graphics/SVG/1.1/DTD/svg11.dtd\">\r\n<!-- Created with matplotlib (https://matplotlib.org/) -->\r\n<svg height=\"694.626563pt\" version=\"1.1\" viewBox=\"0 0 387.620625 694.626563\" width=\"387.620625pt\" xmlns=\"http://www.w3.org/2000/svg\" xmlns:xlink=\"http://www.w3.org/1999/xlink\">\r\n <metadata>\r\n  <rdf:RDF xmlns:cc=\"http://creativecommons.org/ns#\" xmlns:dc=\"http://purl.org/dc/elements/1.1/\" xmlns:rdf=\"http://www.w3.org/1999/02/22-rdf-syntax-ns#\">\r\n   <cc:Work>\r\n    <dc:type rdf:resource=\"http://purl.org/dc/dcmitype/StillImage\"/>\r\n    <dc:date>2021-04-11T17:54:41.437357</dc:date>\r\n    <dc:format>image/svg+xml</dc:format>\r\n    <dc:creator>\r\n     <cc:Agent>\r\n      <dc:title>Matplotlib v3.3.3, https://matplotlib.org/</dc:title>\r\n     </cc:Agent>\r\n    </dc:creator>\r\n   </cc:Work>\r\n  </rdf:RDF>\r\n </metadata>\r\n <defs>\r\n  <style type=\"text/css\">*{stroke-linecap:butt;stroke-linejoin:round;}</style>\r\n </defs>\r\n <g id=\"figure_1\">\r\n  <g id=\"patch_1\">\r\n   <path d=\"M 0 694.626563 \r\nL 387.620625 694.626563 \r\nL 387.620625 0 \r\nL 0 0 \r\nz\r\n\" style=\"fill:#ffffff;\"/>\r\n  </g>\r\n  <g id=\"axes_1\">\r\n   <g id=\"patch_2\">\r\n    <path d=\"M 45.620625 303.709091 \r\nL 380.420625 303.709091 \r\nL 380.420625 7.2 \r\nL 45.620625 7.2 \r\nz\r\n\" style=\"fill:#eaeaf2;\"/>\r\n   </g>\r\n   <g id=\"matplotlib.axis_1\">\r\n    <g id=\"xtick_1\">\r\n     <g id=\"line2d_1\">\r\n      <path clip-path=\"url(#p6155efb0bd)\" d=\"M 105.532204 303.709091 \r\nL 105.532204 7.2 \r\n\" style=\"fill:none;stroke:#ffffff;stroke-linecap:round;stroke-width:0.8;\"/>\r\n     </g>\r\n     <g id=\"line2d_2\"/>\r\n    </g>\r\n    <g id=\"xtick_2\">\r\n     <g id=\"line2d_3\">\r\n      <path clip-path=\"url(#p6155efb0bd)\" d=\"M 169.608759 303.709091 \r\nL 169.608759 7.2 \r\n\" style=\"fill:none;stroke:#ffffff;stroke-linecap:round;stroke-width:0.8;\"/>\r\n     </g>\r\n     <g id=\"line2d_4\"/>\r\n    </g>\r\n    <g id=\"xtick_3\">\r\n     <g id=\"line2d_5\">\r\n      <path clip-path=\"url(#p6155efb0bd)\" d=\"M 233.685314 303.709091 \r\nL 233.685314 7.2 \r\n\" style=\"fill:none;stroke:#ffffff;stroke-linecap:round;stroke-width:0.8;\"/>\r\n     </g>\r\n     <g id=\"line2d_6\"/>\r\n    </g>\r\n    <g id=\"xtick_4\">\r\n     <g id=\"line2d_7\">\r\n      <path clip-path=\"url(#p6155efb0bd)\" d=\"M 297.761869 303.709091 \r\nL 297.761869 7.2 \r\n\" style=\"fill:none;stroke:#ffffff;stroke-linecap:round;stroke-width:0.8;\"/>\r\n     </g>\r\n     <g id=\"line2d_8\"/>\r\n    </g>\r\n    <g id=\"xtick_5\">\r\n     <g id=\"line2d_9\">\r\n      <path clip-path=\"url(#p6155efb0bd)\" d=\"M 361.838424 303.709091 \r\nL 361.838424 7.2 \r\n\" style=\"fill:none;stroke:#ffffff;stroke-linecap:round;stroke-width:0.8;\"/>\r\n     </g>\r\n     <g id=\"line2d_10\"/>\r\n    </g>\r\n   </g>\r\n   <g id=\"matplotlib.axis_2\">\r\n    <g id=\"ytick_1\">\r\n     <g id=\"line2d_11\">\r\n      <path clip-path=\"url(#p6155efb0bd)\" d=\"M 45.620625 257.239269 \r\nL 380.420625 257.239269 \r\n\" style=\"fill:none;stroke:#ffffff;stroke-linecap:round;stroke-width:0.8;\"/>\r\n     </g>\r\n     <g id=\"line2d_12\"/>\r\n     <g id=\"text_1\">\r\n      <!-- $\\mathdefault{10^{7}}$ -->\r\n      <g style=\"fill:#262626;\" transform=\"translate(26.420625 262.345519)scale(0.1 -0.1)\">\r\n       <defs>\r\n        <path d=\"M 37.25 0 \r\nL 28.46875 0 \r\nL 28.46875 56 \r\nQ 25.296875 52.984375 20.140625 49.953125 \r\nQ 14.984375 46.921875 10.890625 45.40625 \r\nL 10.890625 53.90625 \r\nQ 18.265625 57.375 23.78125 62.296875 \r\nQ 29.296875 67.234375 31.59375 71.875 \r\nL 37.25 71.875 \r\nz\r\n\" id=\"ArialMT-49\"/>\r\n        <path d=\"M 4.15625 35.296875 \r\nQ 4.15625 48 6.765625 55.734375 \r\nQ 9.375 63.484375 14.515625 67.671875 \r\nQ 19.671875 71.875 27.484375 71.875 \r\nQ 33.25 71.875 37.59375 69.546875 \r\nQ 41.9375 67.234375 44.765625 62.859375 \r\nQ 47.609375 58.5 49.21875 52.21875 \r\nQ 50.828125 45.953125 50.828125 35.296875 \r\nQ 50.828125 22.703125 48.234375 14.96875 \r\nQ 45.65625 7.234375 40.5 3 \r\nQ 35.359375 -1.21875 27.484375 -1.21875 \r\nQ 17.140625 -1.21875 11.234375 6.203125 \r\nQ 4.15625 15.140625 4.15625 35.296875 \r\nz\r\nM 13.1875 35.296875 \r\nQ 13.1875 17.671875 17.3125 11.828125 \r\nQ 21.4375 6 27.484375 6 \r\nQ 33.546875 6 37.671875 11.859375 \r\nQ 41.796875 17.71875 41.796875 35.296875 \r\nQ 41.796875 52.984375 37.671875 58.78125 \r\nQ 33.546875 64.59375 27.390625 64.59375 \r\nQ 21.34375 64.59375 17.71875 59.46875 \r\nQ 13.1875 52.9375 13.1875 35.296875 \r\nz\r\n\" id=\"ArialMT-48\"/>\r\n        <path d=\"M 4.734375 62.203125 \r\nL 4.734375 70.65625 \r\nL 51.078125 70.65625 \r\nL 51.078125 63.8125 \r\nQ 44.234375 56.546875 37.515625 44.484375 \r\nQ 30.8125 32.421875 27.15625 19.671875 \r\nQ 24.515625 10.6875 23.78125 0 \r\nL 14.75 0 \r\nQ 14.890625 8.453125 18.0625 20.40625 \r\nQ 21.234375 32.375 27.171875 43.484375 \r\nQ 33.109375 54.59375 39.796875 62.203125 \r\nz\r\n\" id=\"ArialMT-55\"/>\r\n       </defs>\r\n       <use transform=\"translate(0 0.846875)\" xlink:href=\"#ArialMT-49\"/>\r\n       <use transform=\"translate(55.615234 0.846875)\" xlink:href=\"#ArialMT-48\"/>\r\n       <use transform=\"translate(112.972813 70.540625)scale(0.7)\" xlink:href=\"#ArialMT-55\"/>\r\n      </g>\r\n     </g>\r\n    </g>\r\n    <g id=\"ytick_2\">\r\n     <g id=\"line2d_13\">\r\n      <path clip-path=\"url(#p6155efb0bd)\" d=\"M 45.620625 173.158036 \r\nL 380.420625 173.158036 \r\n\" style=\"fill:none;stroke:#ffffff;stroke-linecap:round;stroke-width:0.8;\"/>\r\n     </g>\r\n     <g id=\"line2d_14\"/>\r\n     <g id=\"text_2\">\r\n      <!-- $\\mathdefault{10^{8}}$ -->\r\n      <g style=\"fill:#262626;\" transform=\"translate(26.420625 178.314286)scale(0.1 -0.1)\">\r\n       <defs>\r\n        <path d=\"M 17.671875 38.8125 \r\nQ 12.203125 40.828125 9.5625 44.53125 \r\nQ 6.9375 48.25 6.9375 53.421875 \r\nQ 6.9375 61.234375 12.546875 66.546875 \r\nQ 18.171875 71.875 27.484375 71.875 \r\nQ 36.859375 71.875 42.578125 66.421875 \r\nQ 48.296875 60.984375 48.296875 53.171875 \r\nQ 48.296875 48.1875 45.671875 44.5 \r\nQ 43.0625 40.828125 37.75 38.8125 \r\nQ 44.34375 36.671875 47.78125 31.875 \r\nQ 51.21875 27.09375 51.21875 20.453125 \r\nQ 51.21875 11.28125 44.71875 5.03125 \r\nQ 38.234375 -1.21875 27.640625 -1.21875 \r\nQ 17.046875 -1.21875 10.546875 5.046875 \r\nQ 4.046875 11.328125 4.046875 20.703125 \r\nQ 4.046875 27.6875 7.59375 32.390625 \r\nQ 11.140625 37.109375 17.671875 38.8125 \r\nz\r\nM 15.921875 53.71875 \r\nQ 15.921875 48.640625 19.1875 45.40625 \r\nQ 22.46875 42.1875 27.6875 42.1875 \r\nQ 32.765625 42.1875 36.015625 45.375 \r\nQ 39.265625 48.578125 39.265625 53.21875 \r\nQ 39.265625 58.0625 35.90625 61.359375 \r\nQ 32.5625 64.65625 27.59375 64.65625 \r\nQ 22.5625 64.65625 19.234375 61.421875 \r\nQ 15.921875 58.203125 15.921875 53.71875 \r\nz\r\nM 13.09375 20.65625 \r\nQ 13.09375 16.890625 14.875 13.375 \r\nQ 16.65625 9.859375 20.171875 7.921875 \r\nQ 23.6875 6 27.734375 6 \r\nQ 34.03125 6 38.125 10.046875 \r\nQ 42.234375 14.109375 42.234375 20.359375 \r\nQ 42.234375 26.703125 38.015625 30.859375 \r\nQ 33.796875 35.015625 27.4375 35.015625 \r\nQ 21.234375 35.015625 17.15625 30.90625 \r\nQ 13.09375 26.8125 13.09375 20.65625 \r\nz\r\n\" id=\"ArialMT-56\"/>\r\n       </defs>\r\n       <use transform=\"translate(0 0.99375)\" xlink:href=\"#ArialMT-49\"/>\r\n       <use transform=\"translate(55.615234 0.99375)\" xlink:href=\"#ArialMT-48\"/>\r\n       <use transform=\"translate(112.972813 70.6875)scale(0.7)\" xlink:href=\"#ArialMT-56\"/>\r\n      </g>\r\n     </g>\r\n    </g>\r\n    <g id=\"ytick_3\">\r\n     <g id=\"line2d_15\">\r\n      <path clip-path=\"url(#p6155efb0bd)\" d=\"M 45.620625 89.076804 \r\nL 380.420625 89.076804 \r\n\" style=\"fill:none;stroke:#ffffff;stroke-linecap:round;stroke-width:0.8;\"/>\r\n     </g>\r\n     <g id=\"line2d_16\"/>\r\n     <g id=\"text_3\">\r\n      <!-- $\\mathdefault{10^{9}}$ -->\r\n      <g style=\"fill:#262626;\" transform=\"translate(26.420625 94.233054)scale(0.1 -0.1)\">\r\n       <defs>\r\n        <path d=\"M 5.46875 16.546875 \r\nL 13.921875 17.328125 \r\nQ 14.984375 11.375 18.015625 8.6875 \r\nQ 21.046875 6 25.78125 6 \r\nQ 29.828125 6 32.875 7.859375 \r\nQ 35.9375 9.71875 37.890625 12.8125 \r\nQ 39.84375 15.921875 41.15625 21.1875 \r\nQ 42.484375 26.46875 42.484375 31.9375 \r\nQ 42.484375 32.515625 42.4375 33.6875 \r\nQ 39.796875 29.5 35.234375 26.875 \r\nQ 30.671875 24.265625 25.34375 24.265625 \r\nQ 16.453125 24.265625 10.296875 30.703125 \r\nQ 4.15625 37.15625 4.15625 47.703125 \r\nQ 4.15625 58.59375 10.578125 65.234375 \r\nQ 17 71.875 26.65625 71.875 \r\nQ 33.640625 71.875 39.421875 68.109375 \r\nQ 45.21875 64.359375 48.21875 57.390625 \r\nQ 51.21875 50.4375 51.21875 37.25 \r\nQ 51.21875 23.53125 48.234375 15.40625 \r\nQ 45.265625 7.28125 39.375 3.03125 \r\nQ 33.5 -1.21875 25.59375 -1.21875 \r\nQ 17.1875 -1.21875 11.859375 3.4375 \r\nQ 6.546875 8.109375 5.46875 16.546875 \r\nz\r\nM 41.453125 48.140625 \r\nQ 41.453125 55.71875 37.421875 60.15625 \r\nQ 33.40625 64.59375 27.734375 64.59375 \r\nQ 21.875 64.59375 17.53125 59.8125 \r\nQ 13.1875 55.03125 13.1875 47.40625 \r\nQ 13.1875 40.578125 17.3125 36.296875 \r\nQ 21.4375 32.03125 27.484375 32.03125 \r\nQ 33.59375 32.03125 37.515625 36.296875 \r\nQ 41.453125 40.578125 41.453125 48.140625 \r\nz\r\n\" id=\"ArialMT-57\"/>\r\n       </defs>\r\n       <use transform=\"translate(0 0.99375)\" xlink:href=\"#ArialMT-49\"/>\r\n       <use transform=\"translate(55.615234 0.99375)\" xlink:href=\"#ArialMT-48\"/>\r\n       <use transform=\"translate(112.972813 70.6875)scale(0.7)\" xlink:href=\"#ArialMT-57\"/>\r\n      </g>\r\n     </g>\r\n    </g>\r\n    <g id=\"ytick_4\">\r\n     <g id=\"line2d_17\"/>\r\n    </g>\r\n    <g id=\"ytick_5\">\r\n     <g id=\"line2d_18\"/>\r\n    </g>\r\n    <g id=\"ytick_6\">\r\n     <g id=\"line2d_19\"/>\r\n    </g>\r\n    <g id=\"ytick_7\">\r\n     <g id=\"line2d_20\"/>\r\n    </g>\r\n    <g id=\"ytick_8\">\r\n     <g id=\"line2d_21\"/>\r\n    </g>\r\n    <g id=\"ytick_9\">\r\n     <g id=\"line2d_22\"/>\r\n    </g>\r\n    <g id=\"ytick_10\">\r\n     <g id=\"line2d_23\"/>\r\n    </g>\r\n    <g id=\"ytick_11\">\r\n     <g id=\"line2d_24\"/>\r\n    </g>\r\n    <g id=\"ytick_12\">\r\n     <g id=\"line2d_25\"/>\r\n    </g>\r\n    <g id=\"ytick_13\">\r\n     <g id=\"line2d_26\"/>\r\n    </g>\r\n    <g id=\"ytick_14\">\r\n     <g id=\"line2d_27\"/>\r\n    </g>\r\n    <g id=\"ytick_15\">\r\n     <g id=\"line2d_28\"/>\r\n    </g>\r\n    <g id=\"ytick_16\">\r\n     <g id=\"line2d_29\"/>\r\n    </g>\r\n    <g id=\"ytick_17\">\r\n     <g id=\"line2d_30\"/>\r\n    </g>\r\n    <g id=\"ytick_18\">\r\n     <g id=\"line2d_31\"/>\r\n    </g>\r\n    <g id=\"ytick_19\">\r\n     <g id=\"line2d_32\"/>\r\n    </g>\r\n    <g id=\"ytick_20\">\r\n     <g id=\"line2d_33\"/>\r\n    </g>\r\n    <g id=\"ytick_21\">\r\n     <g id=\"line2d_34\"/>\r\n    </g>\r\n    <g id=\"ytick_22\">\r\n     <g id=\"line2d_35\"/>\r\n    </g>\r\n    <g id=\"ytick_23\">\r\n     <g id=\"line2d_36\"/>\r\n    </g>\r\n    <g id=\"ytick_24\">\r\n     <g id=\"line2d_37\"/>\r\n    </g>\r\n    <g id=\"ytick_25\">\r\n     <g id=\"line2d_38\"/>\r\n    </g>\r\n    <g id=\"ytick_26\">\r\n     <g id=\"line2d_39\"/>\r\n    </g>\r\n    <g id=\"ytick_27\">\r\n     <g id=\"line2d_40\"/>\r\n    </g>\r\n    <g id=\"ytick_28\">\r\n     <g id=\"line2d_41\"/>\r\n    </g>\r\n    <g id=\"ytick_29\">\r\n     <g id=\"line2d_42\"/>\r\n    </g>\r\n    <g id=\"ytick_30\">\r\n     <g id=\"line2d_43\"/>\r\n    </g>\r\n    <g id=\"ytick_31\">\r\n     <g id=\"line2d_44\"/>\r\n    </g>\r\n    <g id=\"ytick_32\">\r\n     <g id=\"line2d_45\"/>\r\n    </g>\r\n    <g id=\"ytick_33\">\r\n     <g id=\"line2d_46\"/>\r\n    </g>\r\n    <g id=\"ytick_34\">\r\n     <g id=\"line2d_47\"/>\r\n    </g>\r\n    <g id=\"text_4\">\r\n     <!-- Quality Factor -->\r\n     <g style=\"fill:#262626;\" transform=\"translate(19.895 192.797045)rotate(-90)scale(0.12 -0.12)\">\r\n      <defs>\r\n       <path d=\"M 61.96875 7.671875 \r\nQ 68.5625 3.125 74.125 1.03125 \r\nL 71.34375 -5.5625 \r\nQ 63.625 -2.78125 55.953125 3.21875 \r\nQ 48 -1.21875 38.375 -1.21875 \r\nQ 28.65625 -1.21875 20.75 3.46875 \r\nQ 12.84375 8.15625 8.5625 16.640625 \r\nQ 4.296875 25.140625 4.296875 35.796875 \r\nQ 4.296875 46.390625 8.59375 55.078125 \r\nQ 12.890625 63.765625 20.828125 68.3125 \r\nQ 28.765625 72.859375 38.578125 72.859375 \r\nQ 48.484375 72.859375 56.4375 68.140625 \r\nQ 64.40625 63.421875 68.578125 54.953125 \r\nQ 72.75 46.484375 72.75 35.84375 \r\nQ 72.75 27 70.0625 19.9375 \r\nQ 67.390625 12.890625 61.96875 7.671875 \r\nz\r\nM 41.109375 19.78125 \r\nQ 49.3125 17.484375 54.640625 12.9375 \r\nQ 62.984375 20.5625 62.984375 35.84375 \r\nQ 62.984375 44.53125 60.03125 51.015625 \r\nQ 57.078125 57.515625 51.390625 61.109375 \r\nQ 45.703125 64.703125 38.625 64.703125 \r\nQ 28.03125 64.703125 21.046875 57.453125 \r\nQ 14.0625 50.203125 14.0625 35.796875 \r\nQ 14.0625 21.828125 20.96875 14.359375 \r\nQ 27.875 6.890625 38.625 6.890625 \r\nQ 43.703125 6.890625 48.1875 8.796875 \r\nQ 43.75 11.671875 38.8125 12.890625 \r\nz\r\n\" id=\"ArialMT-81\"/>\r\n       <path d=\"M 40.578125 0 \r\nL 40.578125 7.625 \r\nQ 34.515625 -1.171875 24.125 -1.171875 \r\nQ 19.53125 -1.171875 15.546875 0.578125 \r\nQ 11.578125 2.34375 9.640625 5 \r\nQ 7.71875 7.671875 6.9375 11.53125 \r\nQ 6.390625 14.109375 6.390625 19.734375 \r\nL 6.390625 51.859375 \r\nL 15.1875 51.859375 \r\nL 15.1875 23.09375 \r\nQ 15.1875 16.21875 15.71875 13.8125 \r\nQ 16.546875 10.359375 19.234375 8.375 \r\nQ 21.921875 6.390625 25.875 6.390625 \r\nQ 29.828125 6.390625 33.296875 8.421875 \r\nQ 36.765625 10.453125 38.203125 13.9375 \r\nQ 39.65625 17.4375 39.65625 24.078125 \r\nL 39.65625 51.859375 \r\nL 48.4375 51.859375 \r\nL 48.4375 0 \r\nz\r\n\" id=\"ArialMT-117\"/>\r\n       <path d=\"M 40.4375 6.390625 \r\nQ 35.546875 2.25 31.03125 0.53125 \r\nQ 26.515625 -1.171875 21.34375 -1.171875 \r\nQ 12.796875 -1.171875 8.203125 3 \r\nQ 3.609375 7.171875 3.609375 13.671875 \r\nQ 3.609375 17.484375 5.34375 20.625 \r\nQ 7.078125 23.78125 9.890625 25.6875 \r\nQ 12.703125 27.59375 16.21875 28.5625 \r\nQ 18.796875 29.25 24.03125 29.890625 \r\nQ 34.671875 31.15625 39.703125 32.90625 \r\nQ 39.75 34.71875 39.75 35.203125 \r\nQ 39.75 40.578125 37.25 42.78125 \r\nQ 33.890625 45.75 27.25 45.75 \r\nQ 21.046875 45.75 18.09375 43.578125 \r\nQ 15.140625 41.40625 13.71875 35.890625 \r\nL 5.125 37.0625 \r\nQ 6.296875 42.578125 8.984375 45.96875 \r\nQ 11.671875 49.359375 16.75 51.1875 \r\nQ 21.828125 53.03125 28.515625 53.03125 \r\nQ 35.15625 53.03125 39.296875 51.46875 \r\nQ 43.453125 49.90625 45.40625 47.53125 \r\nQ 47.359375 45.171875 48.140625 41.546875 \r\nQ 48.578125 39.3125 48.578125 33.453125 \r\nL 48.578125 21.734375 \r\nQ 48.578125 9.46875 49.140625 6.21875 \r\nQ 49.703125 2.984375 51.375 0 \r\nL 42.1875 0 \r\nQ 40.828125 2.734375 40.4375 6.390625 \r\nz\r\nM 39.703125 26.03125 \r\nQ 34.90625 24.078125 25.34375 22.703125 \r\nQ 19.921875 21.921875 17.671875 20.9375 \r\nQ 15.4375 19.96875 14.203125 18.09375 \r\nQ 12.984375 16.21875 12.984375 13.921875 \r\nQ 12.984375 10.40625 15.640625 8.0625 \r\nQ 18.3125 5.71875 23.4375 5.71875 \r\nQ 28.515625 5.71875 32.46875 7.9375 \r\nQ 36.421875 10.15625 38.28125 14.015625 \r\nQ 39.703125 17 39.703125 22.796875 \r\nz\r\n\" id=\"ArialMT-97\"/>\r\n       <path d=\"M 6.390625 0 \r\nL 6.390625 71.578125 \r\nL 15.1875 71.578125 \r\nL 15.1875 0 \r\nz\r\n\" id=\"ArialMT-108\"/>\r\n       <path d=\"M 6.640625 61.46875 \r\nL 6.640625 71.578125 \r\nL 15.4375 71.578125 \r\nL 15.4375 61.46875 \r\nz\r\nM 6.640625 0 \r\nL 6.640625 51.859375 \r\nL 15.4375 51.859375 \r\nL 15.4375 0 \r\nz\r\n\" id=\"ArialMT-105\"/>\r\n       <path d=\"M 25.78125 7.859375 \r\nL 27.046875 0.09375 \r\nQ 23.34375 -0.6875 20.40625 -0.6875 \r\nQ 15.625 -0.6875 12.984375 0.828125 \r\nQ 10.359375 2.34375 9.28125 4.8125 \r\nQ 8.203125 7.28125 8.203125 15.1875 \r\nL 8.203125 45.015625 \r\nL 1.765625 45.015625 \r\nL 1.765625 51.859375 \r\nL 8.203125 51.859375 \r\nL 8.203125 64.703125 \r\nL 16.9375 69.96875 \r\nL 16.9375 51.859375 \r\nL 25.78125 51.859375 \r\nL 25.78125 45.015625 \r\nL 16.9375 45.015625 \r\nL 16.9375 14.703125 \r\nQ 16.9375 10.9375 17.40625 9.859375 \r\nQ 17.875 8.796875 18.921875 8.15625 \r\nQ 19.96875 7.515625 21.921875 7.515625 \r\nQ 23.390625 7.515625 25.78125 7.859375 \r\nz\r\n\" id=\"ArialMT-116\"/>\r\n       <path d=\"M 6.203125 -19.96875 \r\nL 5.21875 -11.71875 \r\nQ 8.109375 -12.5 10.25 -12.5 \r\nQ 13.1875 -12.5 14.9375 -11.515625 \r\nQ 16.703125 -10.546875 17.828125 -8.796875 \r\nQ 18.65625 -7.46875 20.515625 -2.25 \r\nQ 20.75 -1.515625 21.296875 -0.09375 \r\nL 1.609375 51.859375 \r\nL 11.078125 51.859375 \r\nL 21.875 21.828125 \r\nQ 23.96875 16.109375 25.640625 9.8125 \r\nQ 27.15625 15.875 29.25 21.625 \r\nL 40.328125 51.859375 \r\nL 49.125 51.859375 \r\nL 29.390625 -0.875 \r\nQ 26.21875 -9.421875 24.46875 -12.640625 \r\nQ 22.125 -17 19.09375 -19.015625 \r\nQ 16.0625 -21.046875 11.859375 -21.046875 \r\nQ 9.328125 -21.046875 6.203125 -19.96875 \r\nz\r\n\" id=\"ArialMT-121\"/>\r\n       <path id=\"ArialMT-32\"/>\r\n       <path d=\"M 8.203125 0 \r\nL 8.203125 71.578125 \r\nL 56.5 71.578125 \r\nL 56.5 63.140625 \r\nL 17.671875 63.140625 \r\nL 17.671875 40.96875 \r\nL 51.265625 40.96875 \r\nL 51.265625 32.515625 \r\nL 17.671875 32.515625 \r\nL 17.671875 0 \r\nz\r\n\" id=\"ArialMT-70\"/>\r\n       <path d=\"M 40.4375 19 \r\nL 49.078125 17.875 \r\nQ 47.65625 8.9375 41.8125 3.875 \r\nQ 35.984375 -1.171875 27.484375 -1.171875 \r\nQ 16.84375 -1.171875 10.375 5.78125 \r\nQ 3.90625 12.75 3.90625 25.734375 \r\nQ 3.90625 34.125 6.6875 40.421875 \r\nQ 9.46875 46.734375 15.15625 49.875 \r\nQ 20.84375 53.03125 27.546875 53.03125 \r\nQ 35.984375 53.03125 41.359375 48.75 \r\nQ 46.734375 44.484375 48.25 36.625 \r\nL 39.703125 35.296875 \r\nQ 38.484375 40.53125 35.375 43.15625 \r\nQ 32.28125 45.796875 27.875 45.796875 \r\nQ 21.234375 45.796875 17.078125 41.03125 \r\nQ 12.9375 36.28125 12.9375 25.984375 \r\nQ 12.9375 15.53125 16.9375 10.796875 \r\nQ 20.953125 6.0625 27.390625 6.0625 \r\nQ 32.5625 6.0625 36.03125 9.234375 \r\nQ 39.5 12.40625 40.4375 19 \r\nz\r\n\" id=\"ArialMT-99\"/>\r\n       <path d=\"M 3.328125 25.921875 \r\nQ 3.328125 40.328125 11.328125 47.265625 \r\nQ 18.015625 53.03125 27.640625 53.03125 \r\nQ 38.328125 53.03125 45.109375 46.015625 \r\nQ 51.90625 39.015625 51.90625 26.65625 \r\nQ 51.90625 16.65625 48.90625 10.90625 \r\nQ 45.90625 5.171875 40.15625 2 \r\nQ 34.421875 -1.171875 27.640625 -1.171875 \r\nQ 16.75 -1.171875 10.03125 5.8125 \r\nQ 3.328125 12.796875 3.328125 25.921875 \r\nz\r\nM 12.359375 25.921875 \r\nQ 12.359375 15.96875 16.703125 11.015625 \r\nQ 21.046875 6.0625 27.640625 6.0625 \r\nQ 34.1875 6.0625 38.53125 11.03125 \r\nQ 42.875 16.015625 42.875 26.21875 \r\nQ 42.875 35.84375 38.5 40.796875 \r\nQ 34.125 45.75 27.640625 45.75 \r\nQ 21.046875 45.75 16.703125 40.8125 \r\nQ 12.359375 35.890625 12.359375 25.921875 \r\nz\r\n\" id=\"ArialMT-111\"/>\r\n       <path d=\"M 6.5 0 \r\nL 6.5 51.859375 \r\nL 14.40625 51.859375 \r\nL 14.40625 44 \r\nQ 17.4375 49.515625 20 51.265625 \r\nQ 22.5625 53.03125 25.640625 53.03125 \r\nQ 30.078125 53.03125 34.671875 50.203125 \r\nL 31.640625 42.046875 \r\nQ 28.421875 43.953125 25.203125 43.953125 \r\nQ 22.3125 43.953125 20.015625 42.21875 \r\nQ 17.71875 40.484375 16.75 37.40625 \r\nQ 15.28125 32.71875 15.28125 27.15625 \r\nL 15.28125 0 \r\nz\r\n\" id=\"ArialMT-114\"/>\r\n      </defs>\r\n      <use xlink:href=\"#ArialMT-81\"/>\r\n      <use x=\"77.783203\" xlink:href=\"#ArialMT-117\"/>\r\n      <use x=\"133.398438\" xlink:href=\"#ArialMT-97\"/>\r\n      <use x=\"189.013672\" xlink:href=\"#ArialMT-108\"/>\r\n      <use x=\"211.230469\" xlink:href=\"#ArialMT-105\"/>\r\n      <use x=\"233.447266\" xlink:href=\"#ArialMT-116\"/>\r\n      <use x=\"261.230469\" xlink:href=\"#ArialMT-121\"/>\r\n      <use x=\"311.230469\" xlink:href=\"#ArialMT-32\"/>\r\n      <use x=\"339.013672\" xlink:href=\"#ArialMT-70\"/>\r\n      <use x=\"400.097656\" xlink:href=\"#ArialMT-97\"/>\r\n      <use x=\"455.712891\" xlink:href=\"#ArialMT-99\"/>\r\n      <use x=\"505.712891\" xlink:href=\"#ArialMT-116\"/>\r\n      <use x=\"533.496094\" xlink:href=\"#ArialMT-111\"/>\r\n      <use x=\"589.111328\" xlink:href=\"#ArialMT-114\"/>\r\n     </g>\r\n    </g>\r\n   </g>\r\n   <g id=\"line2d_48\">\r\n    <defs>\r\n     <path d=\"M 0 3 \r\nC 0.795609 3 1.55874 2.683901 2.12132 2.12132 \r\nC 2.683901 1.55874 3 0.795609 3 0 \r\nC 3 -0.795609 2.683901 -1.55874 2.12132 -2.12132 \r\nC 1.55874 -2.683901 0.795609 -3 0 -3 \r\nC -0.795609 -3 -1.55874 -2.683901 -2.12132 -2.12132 \r\nC -2.683901 -1.55874 -3 -0.795609 -3 0 \r\nC -3 0.795609 -2.683901 1.55874 -2.12132 2.12132 \r\nC -1.55874 2.683901 -0.795609 3 0 3 \r\nz\r\n\" id=\"m60e1a1bfc3\" style=\"stroke:#e24a33;\"/>\r\n    </defs>\r\n    <g clip-path=\"url(#p6155efb0bd)\">\r\n     <use style=\"fill:#e24a33;stroke:#e24a33;\" x=\"60.838807\" xlink:href=\"#m60e1a1bfc3\" y=\"20.677686\"/>\r\n     <use style=\"fill:#e24a33;stroke:#e24a33;\" x=\"76.857946\" xlink:href=\"#m60e1a1bfc3\" y=\"107.489874\"/>\r\n     <use style=\"fill:#e24a33;stroke:#e24a33;\" x=\"92.877084\" xlink:href=\"#m60e1a1bfc3\" y=\"178.222209\"/>\r\n     <use style=\"fill:#e24a33;stroke:#e24a33;\" x=\"108.896223\" xlink:href=\"#m60e1a1bfc3\" y=\"158.460884\"/>\r\n     <use style=\"fill:#e24a33;stroke:#e24a33;\" x=\"124.915362\" xlink:href=\"#m60e1a1bfc3\" y=\"198.821202\"/>\r\n     <use style=\"fill:#e24a33;stroke:#e24a33;\" x=\"140.934501\" xlink:href=\"#m60e1a1bfc3\" y=\"118.178127\"/>\r\n     <use style=\"fill:#e24a33;stroke:#e24a33;\" x=\"156.953639\" xlink:href=\"#m60e1a1bfc3\" y=\"186.834605\"/>\r\n     <use style=\"fill:#e24a33;stroke:#e24a33;\" x=\"172.972778\" xlink:href=\"#m60e1a1bfc3\" y=\"157.965138\"/>\r\n     <use style=\"fill:#e24a33;stroke:#e24a33;\" x=\"188.991917\" xlink:href=\"#m60e1a1bfc3\" y=\"159.319067\"/>\r\n     <use style=\"fill:#e24a33;stroke:#e24a33;\" x=\"205.011056\" xlink:href=\"#m60e1a1bfc3\" y=\"170.575547\"/>\r\n     <use style=\"fill:#e24a33;stroke:#e24a33;\" x=\"221.030194\" xlink:href=\"#m60e1a1bfc3\" y=\"208.155328\"/>\r\n     <use style=\"fill:#e24a33;stroke:#e24a33;\" x=\"237.049333\" xlink:href=\"#m60e1a1bfc3\" y=\"169.268845\"/>\r\n     <use style=\"fill:#e24a33;stroke:#e24a33;\" x=\"253.068472\" xlink:href=\"#m60e1a1bfc3\" y=\"198.702045\"/>\r\n     <use style=\"fill:#e24a33;stroke:#e24a33;\" x=\"269.087611\" xlink:href=\"#m60e1a1bfc3\" y=\"200.810767\"/>\r\n     <use style=\"fill:#e24a33;stroke:#e24a33;\" x=\"285.106749\" xlink:href=\"#m60e1a1bfc3\" y=\"220.673974\"/>\r\n     <use style=\"fill:#e24a33;stroke:#e24a33;\" x=\"301.125888\" xlink:href=\"#m60e1a1bfc3\" y=\"234.678825\"/>\r\n     <use style=\"fill:#e24a33;stroke:#e24a33;\" x=\"317.145027\" xlink:href=\"#m60e1a1bfc3\" y=\"246.520484\"/>\r\n     <use style=\"fill:#e24a33;stroke:#e24a33;\" x=\"333.164166\" xlink:href=\"#m60e1a1bfc3\" y=\"260.12349\"/>\r\n     <use style=\"fill:#e24a33;stroke:#e24a33;\" x=\"349.183304\" xlink:href=\"#m60e1a1bfc3\" y=\"278.279142\"/>\r\n     <use style=\"fill:#e24a33;stroke:#e24a33;\" x=\"365.202443\" xlink:href=\"#m60e1a1bfc3\" y=\"290.231405\"/>\r\n    </g>\r\n   </g>\r\n   <g id=\"patch_3\">\r\n    <path d=\"M 45.620625 303.709091 \r\nL 45.620625 7.2 \r\n\" style=\"fill:none;\"/>\r\n   </g>\r\n   <g id=\"patch_4\">\r\n    <path d=\"M 380.420625 303.709091 \r\nL 380.420625 7.2 \r\n\" style=\"fill:none;\"/>\r\n   </g>\r\n   <g id=\"patch_5\">\r\n    <path d=\"M 45.620625 303.709091 \r\nL 380.420625 303.709091 \r\n\" style=\"fill:none;\"/>\r\n   </g>\r\n   <g id=\"patch_6\">\r\n    <path d=\"M 45.620625 7.2 \r\nL 380.420625 7.2 \r\n\" style=\"fill:none;\"/>\r\n   </g>\r\n   <g id=\"legend_1\">\r\n    <g id=\"line2d_49\"/>\r\n    <g id=\"line2d_50\">\r\n     <g>\r\n      <use style=\"fill:#e24a33;stroke:#e24a33;\" x=\"325.637812\" xlink:href=\"#m60e1a1bfc3\" y=\"19.979688\"/>\r\n     </g>\r\n    </g>\r\n    <g id=\"text_5\">\r\n     <!-- Cavity -->\r\n     <g style=\"fill:#262626;\" transform=\"translate(343.637812 23.479688)scale(0.1 -0.1)\">\r\n      <defs>\r\n       <path d=\"M 58.796875 25.09375 \r\nL 68.265625 22.703125 \r\nQ 65.28125 11.03125 57.546875 4.90625 \r\nQ 49.8125 -1.21875 38.625 -1.21875 \r\nQ 27.046875 -1.21875 19.796875 3.484375 \r\nQ 12.546875 8.203125 8.765625 17.140625 \r\nQ 4.984375 26.078125 4.984375 36.328125 \r\nQ 4.984375 47.515625 9.25 55.828125 \r\nQ 13.53125 64.15625 21.40625 68.46875 \r\nQ 29.296875 72.796875 38.765625 72.796875 \r\nQ 49.515625 72.796875 56.828125 67.328125 \r\nQ 64.15625 61.859375 67.046875 51.953125 \r\nL 57.71875 49.75 \r\nQ 55.21875 57.5625 50.484375 61.125 \r\nQ 45.75 64.703125 38.578125 64.703125 \r\nQ 30.328125 64.703125 24.78125 60.734375 \r\nQ 19.234375 56.78125 16.984375 50.109375 \r\nQ 14.75 43.453125 14.75 36.375 \r\nQ 14.75 27.25 17.40625 20.4375 \r\nQ 20.0625 13.625 25.671875 10.25 \r\nQ 31.296875 6.890625 37.84375 6.890625 \r\nQ 45.796875 6.890625 51.3125 11.46875 \r\nQ 56.84375 16.0625 58.796875 25.09375 \r\nz\r\n\" id=\"ArialMT-67\"/>\r\n       <path d=\"M 21 0 \r\nL 1.265625 51.859375 \r\nL 10.546875 51.859375 \r\nL 21.6875 20.796875 \r\nQ 23.484375 15.765625 25 10.359375 \r\nQ 26.171875 14.453125 28.265625 20.21875 \r\nL 39.796875 51.859375 \r\nL 48.828125 51.859375 \r\nL 29.203125 0 \r\nz\r\n\" id=\"ArialMT-118\"/>\r\n      </defs>\r\n      <use xlink:href=\"#ArialMT-67\"/>\r\n      <use x=\"72.216797\" xlink:href=\"#ArialMT-97\"/>\r\n      <use x=\"127.832031\" xlink:href=\"#ArialMT-118\"/>\r\n      <use x=\"177.832031\" xlink:href=\"#ArialMT-105\"/>\r\n      <use x=\"200.048828\" xlink:href=\"#ArialMT-116\"/>\r\n      <use x=\"227.832031\" xlink:href=\"#ArialMT-121\"/>\r\n     </g>\r\n    </g>\r\n   </g>\r\n  </g>\r\n  <g id=\"axes_2\">\r\n   <g id=\"patch_7\">\r\n    <path d=\"M 45.620625 659.52 \r\nL 380.420625 659.52 \r\nL 380.420625 363.010909 \r\nL 45.620625 363.010909 \r\nz\r\n\" style=\"fill:#eaeaf2;\"/>\r\n   </g>\r\n   <g id=\"matplotlib.axis_3\">\r\n    <g id=\"xtick_6\">\r\n     <g id=\"line2d_51\">\r\n      <path clip-path=\"url(#pc65aa35aaf)\" d=\"M 105.532204 659.52 \r\nL 105.532204 363.010909 \r\n\" style=\"fill:none;stroke:#ffffff;stroke-linecap:round;stroke-width:0.8;\"/>\r\n     </g>\r\n     <g id=\"line2d_52\"/>\r\n     <g id=\"text_6\">\r\n      <!-- 16 -->\r\n      <g style=\"fill:#262626;\" transform=\"translate(99.971266 670.177813)scale(0.1 -0.1)\">\r\n       <defs>\r\n        <path d=\"M 49.75 54.046875 \r\nL 41.015625 53.375 \r\nQ 39.84375 58.546875 37.703125 60.890625 \r\nQ 34.125 64.65625 28.90625 64.65625 \r\nQ 24.703125 64.65625 21.53125 62.3125 \r\nQ 17.390625 59.28125 14.984375 53.46875 \r\nQ 12.59375 47.65625 12.5 36.921875 \r\nQ 15.671875 41.75 20.265625 44.09375 \r\nQ 24.859375 46.4375 29.890625 46.4375 \r\nQ 38.671875 46.4375 44.84375 39.96875 \r\nQ 51.03125 33.5 51.03125 23.25 \r\nQ 51.03125 16.5 48.125 10.71875 \r\nQ 45.21875 4.9375 40.140625 1.859375 \r\nQ 35.0625 -1.21875 28.609375 -1.21875 \r\nQ 17.625 -1.21875 10.6875 6.859375 \r\nQ 3.765625 14.9375 3.765625 33.5 \r\nQ 3.765625 54.25 11.421875 63.671875 \r\nQ 18.109375 71.875 29.4375 71.875 \r\nQ 37.890625 71.875 43.28125 67.140625 \r\nQ 48.6875 62.40625 49.75 54.046875 \r\nz\r\nM 13.875 23.1875 \r\nQ 13.875 18.65625 15.796875 14.5 \r\nQ 17.71875 10.359375 21.1875 8.171875 \r\nQ 24.65625 6 28.46875 6 \r\nQ 34.03125 6 38.03125 10.484375 \r\nQ 42.046875 14.984375 42.046875 22.703125 \r\nQ 42.046875 30.125 38.078125 34.390625 \r\nQ 34.125 38.671875 28.125 38.671875 \r\nQ 22.171875 38.671875 18.015625 34.390625 \r\nQ 13.875 30.125 13.875 23.1875 \r\nz\r\n\" id=\"ArialMT-54\"/>\r\n       </defs>\r\n       <use xlink:href=\"#ArialMT-49\"/>\r\n       <use x=\"55.615234\" xlink:href=\"#ArialMT-54\"/>\r\n      </g>\r\n     </g>\r\n    </g>\r\n    <g id=\"xtick_7\">\r\n     <g id=\"line2d_53\">\r\n      <path clip-path=\"url(#pc65aa35aaf)\" d=\"M 169.608759 659.52 \r\nL 169.608759 363.010909 \r\n\" style=\"fill:none;stroke:#ffffff;stroke-linecap:round;stroke-width:0.8;\"/>\r\n     </g>\r\n     <g id=\"line2d_54\"/>\r\n     <g id=\"text_7\">\r\n      <!-- 18 -->\r\n      <g style=\"fill:#262626;\" transform=\"translate(164.047821 670.177813)scale(0.1 -0.1)\">\r\n       <use xlink:href=\"#ArialMT-49\"/>\r\n       <use x=\"55.615234\" xlink:href=\"#ArialMT-56\"/>\r\n      </g>\r\n     </g>\r\n    </g>\r\n    <g id=\"xtick_8\">\r\n     <g id=\"line2d_55\">\r\n      <path clip-path=\"url(#pc65aa35aaf)\" d=\"M 233.685314 659.52 \r\nL 233.685314 363.010909 \r\n\" style=\"fill:none;stroke:#ffffff;stroke-linecap:round;stroke-width:0.8;\"/>\r\n     </g>\r\n     <g id=\"line2d_56\"/>\r\n     <g id=\"text_8\">\r\n      <!-- 20 -->\r\n      <g style=\"fill:#262626;\" transform=\"translate(228.124376 670.177813)scale(0.1 -0.1)\">\r\n       <defs>\r\n        <path d=\"M 50.34375 8.453125 \r\nL 50.34375 0 \r\nL 3.03125 0 \r\nQ 2.9375 3.171875 4.046875 6.109375 \r\nQ 5.859375 10.9375 9.828125 15.625 \r\nQ 13.8125 20.3125 21.34375 26.46875 \r\nQ 33.015625 36.03125 37.109375 41.625 \r\nQ 41.21875 47.21875 41.21875 52.203125 \r\nQ 41.21875 57.421875 37.46875 61 \r\nQ 33.734375 64.59375 27.734375 64.59375 \r\nQ 21.390625 64.59375 17.578125 60.78125 \r\nQ 13.765625 56.984375 13.71875 50.25 \r\nL 4.6875 51.171875 \r\nQ 5.609375 61.28125 11.65625 66.578125 \r\nQ 17.71875 71.875 27.9375 71.875 \r\nQ 38.234375 71.875 44.234375 66.15625 \r\nQ 50.25 60.453125 50.25 52 \r\nQ 50.25 47.703125 48.484375 43.546875 \r\nQ 46.734375 39.40625 42.65625 34.8125 \r\nQ 38.578125 30.21875 29.109375 22.21875 \r\nQ 21.1875 15.578125 18.9375 13.203125 \r\nQ 16.703125 10.84375 15.234375 8.453125 \r\nz\r\n\" id=\"ArialMT-50\"/>\r\n       </defs>\r\n       <use xlink:href=\"#ArialMT-50\"/>\r\n       <use x=\"55.615234\" xlink:href=\"#ArialMT-48\"/>\r\n      </g>\r\n     </g>\r\n    </g>\r\n    <g id=\"xtick_9\">\r\n     <g id=\"line2d_57\">\r\n      <path clip-path=\"url(#pc65aa35aaf)\" d=\"M 297.761869 659.52 \r\nL 297.761869 363.010909 \r\n\" style=\"fill:none;stroke:#ffffff;stroke-linecap:round;stroke-width:0.8;\"/>\r\n     </g>\r\n     <g id=\"line2d_58\"/>\r\n     <g id=\"text_9\">\r\n      <!-- 22 -->\r\n      <g style=\"fill:#262626;\" transform=\"translate(292.200932 670.177813)scale(0.1 -0.1)\">\r\n       <use xlink:href=\"#ArialMT-50\"/>\r\n       <use x=\"55.615234\" xlink:href=\"#ArialMT-50\"/>\r\n      </g>\r\n     </g>\r\n    </g>\r\n    <g id=\"xtick_10\">\r\n     <g id=\"line2d_59\">\r\n      <path clip-path=\"url(#pc65aa35aaf)\" d=\"M 361.838424 659.52 \r\nL 361.838424 363.010909 \r\n\" style=\"fill:none;stroke:#ffffff;stroke-linecap:round;stroke-width:0.8;\"/>\r\n     </g>\r\n     <g id=\"line2d_60\"/>\r\n     <g id=\"text_10\">\r\n      <!-- 24 -->\r\n      <g style=\"fill:#262626;\" transform=\"translate(356.277487 670.177813)scale(0.1 -0.1)\">\r\n       <defs>\r\n        <path d=\"M 32.328125 0 \r\nL 32.328125 17.140625 \r\nL 1.265625 17.140625 \r\nL 1.265625 25.203125 \r\nL 33.9375 71.578125 \r\nL 41.109375 71.578125 \r\nL 41.109375 25.203125 \r\nL 50.78125 25.203125 \r\nL 50.78125 17.140625 \r\nL 41.109375 17.140625 \r\nL 41.109375 0 \r\nz\r\nM 32.328125 25.203125 \r\nL 32.328125 57.46875 \r\nL 9.90625 25.203125 \r\nz\r\n\" id=\"ArialMT-52\"/>\r\n       </defs>\r\n       <use xlink:href=\"#ArialMT-50\"/>\r\n       <use x=\"55.615234\" xlink:href=\"#ArialMT-52\"/>\r\n      </g>\r\n     </g>\r\n    </g>\r\n    <g id=\"text_11\">\r\n     <!-- Cavity Pin Length [mm] -->\r\n     <g style=\"fill:#262626;\" transform=\"translate(150.999375 684.900938)scale(0.12 -0.12)\">\r\n      <defs>\r\n       <path d=\"M 7.71875 0 \r\nL 7.71875 71.578125 \r\nL 34.71875 71.578125 \r\nQ 41.84375 71.578125 45.609375 70.90625 \r\nQ 50.875 70.015625 54.4375 67.546875 \r\nQ 58.015625 65.09375 60.1875 60.640625 \r\nQ 62.359375 56.203125 62.359375 50.875 \r\nQ 62.359375 41.75 56.546875 35.421875 \r\nQ 50.734375 29.109375 35.546875 29.109375 \r\nL 17.1875 29.109375 \r\nL 17.1875 0 \r\nz\r\nM 17.1875 37.546875 \r\nL 35.6875 37.546875 \r\nQ 44.875 37.546875 48.734375 40.96875 \r\nQ 52.59375 44.390625 52.59375 50.59375 \r\nQ 52.59375 55.078125 50.3125 58.265625 \r\nQ 48.046875 61.46875 44.34375 62.5 \r\nQ 41.9375 63.140625 35.5 63.140625 \r\nL 17.1875 63.140625 \r\nz\r\n\" id=\"ArialMT-80\"/>\r\n       <path d=\"M 6.59375 0 \r\nL 6.59375 51.859375 \r\nL 14.5 51.859375 \r\nL 14.5 44.484375 \r\nQ 20.21875 53.03125 31 53.03125 \r\nQ 35.6875 53.03125 39.625 51.34375 \r\nQ 43.5625 49.65625 45.515625 46.921875 \r\nQ 47.46875 44.1875 48.25 40.4375 \r\nQ 48.734375 37.984375 48.734375 31.890625 \r\nL 48.734375 0 \r\nL 39.9375 0 \r\nL 39.9375 31.546875 \r\nQ 39.9375 36.921875 38.90625 39.578125 \r\nQ 37.890625 42.234375 35.28125 43.8125 \r\nQ 32.671875 45.40625 29.15625 45.40625 \r\nQ 23.53125 45.40625 19.453125 41.84375 \r\nQ 15.375 38.28125 15.375 28.328125 \r\nL 15.375 0 \r\nz\r\n\" id=\"ArialMT-110\"/>\r\n       <path d=\"M 7.328125 0 \r\nL 7.328125 71.578125 \r\nL 16.796875 71.578125 \r\nL 16.796875 8.453125 \r\nL 52.046875 8.453125 \r\nL 52.046875 0 \r\nz\r\n\" id=\"ArialMT-76\"/>\r\n       <path d=\"M 42.09375 16.703125 \r\nL 51.171875 15.578125 \r\nQ 49.03125 7.625 43.21875 3.21875 \r\nQ 37.40625 -1.171875 28.375 -1.171875 \r\nQ 17 -1.171875 10.328125 5.828125 \r\nQ 3.65625 12.84375 3.65625 25.484375 \r\nQ 3.65625 38.578125 10.390625 45.796875 \r\nQ 17.140625 53.03125 27.875 53.03125 \r\nQ 38.28125 53.03125 44.875 45.953125 \r\nQ 51.46875 38.875 51.46875 26.03125 \r\nQ 51.46875 25.25 51.421875 23.6875 \r\nL 12.75 23.6875 \r\nQ 13.234375 15.140625 17.578125 10.59375 \r\nQ 21.921875 6.0625 28.421875 6.0625 \r\nQ 33.25 6.0625 36.671875 8.59375 \r\nQ 40.09375 11.140625 42.09375 16.703125 \r\nz\r\nM 13.234375 30.90625 \r\nL 42.1875 30.90625 \r\nQ 41.609375 37.453125 38.875 40.71875 \r\nQ 34.671875 45.796875 27.984375 45.796875 \r\nQ 21.921875 45.796875 17.796875 41.75 \r\nQ 13.671875 37.703125 13.234375 30.90625 \r\nz\r\n\" id=\"ArialMT-101\"/>\r\n       <path d=\"M 4.984375 -4.296875 \r\nL 13.53125 -5.5625 \r\nQ 14.0625 -9.515625 16.5 -11.328125 \r\nQ 19.78125 -13.765625 25.4375 -13.765625 \r\nQ 31.546875 -13.765625 34.859375 -11.328125 \r\nQ 38.1875 -8.890625 39.359375 -4.5 \r\nQ 40.046875 -1.8125 39.984375 6.78125 \r\nQ 34.234375 0 25.640625 0 \r\nQ 14.9375 0 9.078125 7.71875 \r\nQ 3.21875 15.4375 3.21875 26.21875 \r\nQ 3.21875 33.640625 5.90625 39.90625 \r\nQ 8.59375 46.1875 13.6875 49.609375 \r\nQ 18.796875 53.03125 25.6875 53.03125 \r\nQ 34.859375 53.03125 40.828125 45.609375 \r\nL 40.828125 51.859375 \r\nL 48.921875 51.859375 \r\nL 48.921875 7.03125 \r\nQ 48.921875 -5.078125 46.453125 -10.125 \r\nQ 44 -15.1875 38.640625 -18.109375 \r\nQ 33.296875 -21.046875 25.484375 -21.046875 \r\nQ 16.21875 -21.046875 10.5 -16.875 \r\nQ 4.78125 -12.703125 4.984375 -4.296875 \r\nz\r\nM 12.25 26.859375 \r\nQ 12.25 16.65625 16.296875 11.96875 \r\nQ 20.359375 7.28125 26.46875 7.28125 \r\nQ 32.515625 7.28125 36.609375 11.9375 \r\nQ 40.71875 16.609375 40.71875 26.5625 \r\nQ 40.71875 36.078125 36.5 40.90625 \r\nQ 32.28125 45.75 26.3125 45.75 \r\nQ 20.453125 45.75 16.34375 40.984375 \r\nQ 12.25 36.234375 12.25 26.859375 \r\nz\r\n\" id=\"ArialMT-103\"/>\r\n       <path d=\"M 6.59375 0 \r\nL 6.59375 71.578125 \r\nL 15.375 71.578125 \r\nL 15.375 45.90625 \r\nQ 21.53125 53.03125 30.90625 53.03125 \r\nQ 36.671875 53.03125 40.921875 50.75 \r\nQ 45.171875 48.484375 47 44.484375 \r\nQ 48.828125 40.484375 48.828125 32.859375 \r\nL 48.828125 0 \r\nL 40.046875 0 \r\nL 40.046875 32.859375 \r\nQ 40.046875 39.453125 37.1875 42.453125 \r\nQ 34.328125 45.453125 29.109375 45.453125 \r\nQ 25.203125 45.453125 21.75 43.421875 \r\nQ 18.3125 41.40625 16.84375 37.9375 \r\nQ 15.375 34.46875 15.375 28.375 \r\nL 15.375 0 \r\nz\r\n\" id=\"ArialMT-104\"/>\r\n       <path d=\"M 6.78125 -19.875 \r\nL 6.78125 71.578125 \r\nL 26.171875 71.578125 \r\nL 26.171875 64.3125 \r\nL 15.578125 64.3125 \r\nL 15.578125 -12.59375 \r\nL 26.171875 -12.59375 \r\nL 26.171875 -19.875 \r\nz\r\n\" id=\"ArialMT-91\"/>\r\n       <path d=\"M 6.59375 0 \r\nL 6.59375 51.859375 \r\nL 14.453125 51.859375 \r\nL 14.453125 44.578125 \r\nQ 16.890625 48.390625 20.9375 50.703125 \r\nQ 25 53.03125 30.171875 53.03125 \r\nQ 35.9375 53.03125 39.625 50.640625 \r\nQ 43.3125 48.25 44.828125 43.953125 \r\nQ 50.984375 53.03125 60.84375 53.03125 \r\nQ 68.5625 53.03125 72.703125 48.75 \r\nQ 76.859375 44.484375 76.859375 35.59375 \r\nL 76.859375 0 \r\nL 68.109375 0 \r\nL 68.109375 32.671875 \r\nQ 68.109375 37.9375 67.25 40.25 \r\nQ 66.40625 42.578125 64.15625 43.984375 \r\nQ 61.921875 45.40625 58.890625 45.40625 \r\nQ 53.421875 45.40625 49.796875 41.765625 \r\nQ 46.1875 38.140625 46.1875 30.125 \r\nL 46.1875 0 \r\nL 37.40625 0 \r\nL 37.40625 33.6875 \r\nQ 37.40625 39.546875 35.25 42.46875 \r\nQ 33.109375 45.40625 28.21875 45.40625 \r\nQ 24.515625 45.40625 21.359375 43.453125 \r\nQ 18.21875 41.5 16.796875 37.734375 \r\nQ 15.375 33.984375 15.375 26.90625 \r\nL 15.375 0 \r\nz\r\n\" id=\"ArialMT-109\"/>\r\n       <path d=\"M 21.296875 -19.875 \r\nL 1.90625 -19.875 \r\nL 1.90625 -12.59375 \r\nL 12.5 -12.59375 \r\nL 12.5 64.3125 \r\nL 1.90625 64.3125 \r\nL 1.90625 71.578125 \r\nL 21.296875 71.578125 \r\nz\r\n\" id=\"ArialMT-93\"/>\r\n      </defs>\r\n      <use xlink:href=\"#ArialMT-67\"/>\r\n      <use x=\"72.216797\" xlink:href=\"#ArialMT-97\"/>\r\n      <use x=\"127.832031\" xlink:href=\"#ArialMT-118\"/>\r\n      <use x=\"177.832031\" xlink:href=\"#ArialMT-105\"/>\r\n      <use x=\"200.048828\" xlink:href=\"#ArialMT-116\"/>\r\n      <use x=\"227.832031\" xlink:href=\"#ArialMT-121\"/>\r\n      <use x=\"277.832031\" xlink:href=\"#ArialMT-32\"/>\r\n      <use x=\"305.615234\" xlink:href=\"#ArialMT-80\"/>\r\n      <use x=\"372.314453\" xlink:href=\"#ArialMT-105\"/>\r\n      <use x=\"394.53125\" xlink:href=\"#ArialMT-110\"/>\r\n      <use x=\"450.146484\" xlink:href=\"#ArialMT-32\"/>\r\n      <use x=\"477.929688\" xlink:href=\"#ArialMT-76\"/>\r\n      <use x=\"533.544922\" xlink:href=\"#ArialMT-101\"/>\r\n      <use x=\"589.160156\" xlink:href=\"#ArialMT-110\"/>\r\n      <use x=\"644.775391\" xlink:href=\"#ArialMT-103\"/>\r\n      <use x=\"700.390625\" xlink:href=\"#ArialMT-116\"/>\r\n      <use x=\"728.173828\" xlink:href=\"#ArialMT-104\"/>\r\n      <use x=\"783.789062\" xlink:href=\"#ArialMT-32\"/>\r\n      <use x=\"811.572266\" xlink:href=\"#ArialMT-91\"/>\r\n      <use x=\"839.355469\" xlink:href=\"#ArialMT-109\"/>\r\n      <use x=\"922.65625\" xlink:href=\"#ArialMT-109\"/>\r\n      <use x=\"1005.957031\" xlink:href=\"#ArialMT-93\"/>\r\n     </g>\r\n    </g>\r\n   </g>\r\n   <g id=\"matplotlib.axis_4\">\r\n    <g id=\"ytick_35\">\r\n     <g id=\"line2d_61\">\r\n      <path clip-path=\"url(#pc65aa35aaf)\" d=\"M 45.620625 576.163412 \r\nL 380.420625 576.163412 \r\n\" style=\"fill:none;stroke:#ffffff;stroke-linecap:round;stroke-width:0.8;\"/>\r\n     </g>\r\n     <g id=\"line2d_62\"/>\r\n     <g id=\"text_12\">\r\n      <!-- $\\mathdefault{10^{-3}}$ -->\r\n      <g style=\"fill:#262626;\" transform=\"translate(22.320625 581.319662)scale(0.1 -0.1)\">\r\n       <defs>\r\n        <path d=\"M 52.828125 31.203125 \r\nL 5.5625 31.203125 \r\nL 5.5625 39.40625 \r\nL 52.828125 39.40625 \r\nz\r\n\" id=\"ArialMT-8722\"/>\r\n        <path d=\"M 4.203125 18.890625 \r\nL 12.984375 20.0625 \r\nQ 14.5 12.59375 18.140625 9.296875 \r\nQ 21.78125 6 27 6 \r\nQ 33.203125 6 37.46875 10.296875 \r\nQ 41.75 14.59375 41.75 20.953125 \r\nQ 41.75 27 37.796875 30.921875 \r\nQ 33.84375 34.859375 27.734375 34.859375 \r\nQ 25.25 34.859375 21.53125 33.890625 \r\nL 22.515625 41.609375 \r\nQ 23.390625 41.5 23.921875 41.5 \r\nQ 29.546875 41.5 34.03125 44.421875 \r\nQ 38.53125 47.359375 38.53125 53.46875 \r\nQ 38.53125 58.296875 35.25 61.46875 \r\nQ 31.984375 64.65625 26.8125 64.65625 \r\nQ 21.6875 64.65625 18.265625 61.421875 \r\nQ 14.84375 58.203125 13.875 51.765625 \r\nL 5.078125 53.328125 \r\nQ 6.6875 62.15625 12.390625 67.015625 \r\nQ 18.109375 71.875 26.609375 71.875 \r\nQ 32.46875 71.875 37.390625 69.359375 \r\nQ 42.328125 66.84375 44.9375 62.5 \r\nQ 47.5625 58.15625 47.5625 53.265625 \r\nQ 47.5625 48.640625 45.0625 44.828125 \r\nQ 42.578125 41.015625 37.703125 38.765625 \r\nQ 44.046875 37.3125 47.5625 32.6875 \r\nQ 51.078125 28.078125 51.078125 21.140625 \r\nQ 51.078125 11.765625 44.234375 5.25 \r\nQ 37.40625 -1.265625 26.953125 -1.265625 \r\nQ 17.53125 -1.265625 11.296875 4.34375 \r\nQ 5.078125 9.96875 4.203125 18.890625 \r\nz\r\n\" id=\"ArialMT-51\"/>\r\n       </defs>\r\n       <use transform=\"translate(0 0.99375)\" xlink:href=\"#ArialMT-49\"/>\r\n       <use transform=\"translate(55.615234 0.99375)\" xlink:href=\"#ArialMT-48\"/>\r\n       <use transform=\"translate(112.972813 70.6875)scale(0.7)\" xlink:href=\"#ArialMT-8722\"/>\r\n       <use transform=\"translate(153.851719 70.6875)scale(0.7)\" xlink:href=\"#ArialMT-51\"/>\r\n      </g>\r\n     </g>\r\n    </g>\r\n    <g id=\"ytick_36\">\r\n     <g id=\"line2d_63\">\r\n      <path clip-path=\"url(#pc65aa35aaf)\" d=\"M 45.620625 492.087354 \r\nL 380.420625 492.087354 \r\n\" style=\"fill:none;stroke:#ffffff;stroke-linecap:round;stroke-width:0.8;\"/>\r\n     </g>\r\n     <g id=\"line2d_64\"/>\r\n     <g id=\"text_13\">\r\n      <!-- $\\mathdefault{10^{-2}}$ -->\r\n      <g style=\"fill:#262626;\" transform=\"translate(22.320625 497.243604)scale(0.1 -0.1)\">\r\n       <use transform=\"translate(0 0.99375)\" xlink:href=\"#ArialMT-49\"/>\r\n       <use transform=\"translate(55.615234 0.99375)\" xlink:href=\"#ArialMT-48\"/>\r\n       <use transform=\"translate(112.972813 70.6875)scale(0.7)\" xlink:href=\"#ArialMT-8722\"/>\r\n       <use transform=\"translate(153.851719 70.6875)scale(0.7)\" xlink:href=\"#ArialMT-50\"/>\r\n      </g>\r\n     </g>\r\n    </g>\r\n    <g id=\"ytick_37\">\r\n     <g id=\"line2d_65\">\r\n      <path clip-path=\"url(#pc65aa35aaf)\" d=\"M 45.620625 408.011295 \r\nL 380.420625 408.011295 \r\n\" style=\"fill:none;stroke:#ffffff;stroke-linecap:round;stroke-width:0.8;\"/>\r\n     </g>\r\n     <g id=\"line2d_66\"/>\r\n     <g id=\"text_14\">\r\n      <!-- $\\mathdefault{10^{-1}}$ -->\r\n      <g style=\"fill:#262626;\" transform=\"translate(22.320625 413.167545)scale(0.1 -0.1)\">\r\n       <use transform=\"translate(0 0.99375)\" xlink:href=\"#ArialMT-49\"/>\r\n       <use transform=\"translate(55.615234 0.99375)\" xlink:href=\"#ArialMT-48\"/>\r\n       <use transform=\"translate(112.972813 70.6875)scale(0.7)\" xlink:href=\"#ArialMT-8722\"/>\r\n       <use transform=\"translate(153.851719 70.6875)scale(0.7)\" xlink:href=\"#ArialMT-49\"/>\r\n      </g>\r\n     </g>\r\n    </g>\r\n    <g id=\"ytick_38\">\r\n     <g id=\"line2d_67\"/>\r\n    </g>\r\n    <g id=\"ytick_39\">\r\n     <g id=\"line2d_68\"/>\r\n    </g>\r\n    <g id=\"ytick_40\">\r\n     <g id=\"line2d_69\"/>\r\n    </g>\r\n    <g id=\"ytick_41\">\r\n     <g id=\"line2d_70\"/>\r\n    </g>\r\n    <g id=\"ytick_42\">\r\n     <g id=\"line2d_71\"/>\r\n    </g>\r\n    <g id=\"ytick_43\">\r\n     <g id=\"line2d_72\"/>\r\n    </g>\r\n    <g id=\"ytick_44\">\r\n     <g id=\"line2d_73\"/>\r\n    </g>\r\n    <g id=\"ytick_45\">\r\n     <g id=\"line2d_74\"/>\r\n    </g>\r\n    <g id=\"ytick_46\">\r\n     <g id=\"line2d_75\"/>\r\n    </g>\r\n    <g id=\"ytick_47\">\r\n     <g id=\"line2d_76\"/>\r\n    </g>\r\n    <g id=\"ytick_48\">\r\n     <g id=\"line2d_77\"/>\r\n    </g>\r\n    <g id=\"ytick_49\">\r\n     <g id=\"line2d_78\"/>\r\n    </g>\r\n    <g id=\"ytick_50\">\r\n     <g id=\"line2d_79\"/>\r\n    </g>\r\n    <g id=\"ytick_51\">\r\n     <g id=\"line2d_80\"/>\r\n    </g>\r\n    <g id=\"ytick_52\">\r\n     <g id=\"line2d_81\"/>\r\n    </g>\r\n    <g id=\"ytick_53\">\r\n     <g id=\"line2d_82\"/>\r\n    </g>\r\n    <g id=\"ytick_54\">\r\n     <g id=\"line2d_83\"/>\r\n    </g>\r\n    <g id=\"ytick_55\">\r\n     <g id=\"line2d_84\"/>\r\n    </g>\r\n    <g id=\"ytick_56\">\r\n     <g id=\"line2d_85\"/>\r\n    </g>\r\n    <g id=\"ytick_57\">\r\n     <g id=\"line2d_86\"/>\r\n    </g>\r\n    <g id=\"ytick_58\">\r\n     <g id=\"line2d_87\"/>\r\n    </g>\r\n    <g id=\"ytick_59\">\r\n     <g id=\"line2d_88\"/>\r\n    </g>\r\n    <g id=\"ytick_60\">\r\n     <g id=\"line2d_89\"/>\r\n    </g>\r\n    <g id=\"ytick_61\">\r\n     <g id=\"line2d_90\"/>\r\n    </g>\r\n    <g id=\"ytick_62\">\r\n     <g id=\"line2d_91\"/>\r\n    </g>\r\n    <g id=\"ytick_63\">\r\n     <g id=\"line2d_92\"/>\r\n    </g>\r\n    <g id=\"text_15\">\r\n     <!-- Lifetime [s] -->\r\n     <g style=\"fill:#262626;\" transform=\"translate(15.935625 540.27358)rotate(-90)scale(0.12 -0.12)\">\r\n      <defs>\r\n       <path d=\"M 8.6875 0 \r\nL 8.6875 45.015625 \r\nL 0.921875 45.015625 \r\nL 0.921875 51.859375 \r\nL 8.6875 51.859375 \r\nL 8.6875 57.375 \r\nQ 8.6875 62.59375 9.625 65.140625 \r\nQ 10.890625 68.5625 14.078125 70.671875 \r\nQ 17.28125 72.796875 23.046875 72.796875 \r\nQ 26.765625 72.796875 31.25 71.921875 \r\nL 29.9375 64.265625 \r\nQ 27.203125 64.75 24.75 64.75 \r\nQ 20.75 64.75 19.09375 63.03125 \r\nQ 17.4375 61.328125 17.4375 56.640625 \r\nL 17.4375 51.859375 \r\nL 27.546875 51.859375 \r\nL 27.546875 45.015625 \r\nL 17.4375 45.015625 \r\nL 17.4375 0 \r\nz\r\n\" id=\"ArialMT-102\"/>\r\n       <path d=\"M 3.078125 15.484375 \r\nL 11.765625 16.84375 \r\nQ 12.5 11.625 15.84375 8.84375 \r\nQ 19.1875 6.0625 25.203125 6.0625 \r\nQ 31.25 6.0625 34.171875 8.515625 \r\nQ 37.109375 10.984375 37.109375 14.3125 \r\nQ 37.109375 17.28125 34.515625 19 \r\nQ 32.71875 20.171875 25.53125 21.96875 \r\nQ 15.875 24.421875 12.140625 26.203125 \r\nQ 8.40625 27.984375 6.46875 31.125 \r\nQ 4.546875 34.28125 4.546875 38.09375 \r\nQ 4.546875 41.546875 6.125 44.5 \r\nQ 7.71875 47.46875 10.453125 49.421875 \r\nQ 12.5 50.921875 16.03125 51.96875 \r\nQ 19.578125 53.03125 23.640625 53.03125 \r\nQ 29.734375 53.03125 34.34375 51.265625 \r\nQ 38.96875 49.515625 41.15625 46.5 \r\nQ 43.359375 43.5 44.1875 38.484375 \r\nL 35.59375 37.3125 \r\nQ 35.015625 41.3125 32.203125 43.546875 \r\nQ 29.390625 45.796875 24.265625 45.796875 \r\nQ 18.21875 45.796875 15.625 43.796875 \r\nQ 13.03125 41.796875 13.03125 39.109375 \r\nQ 13.03125 37.40625 14.109375 36.03125 \r\nQ 15.1875 34.625 17.484375 33.6875 \r\nQ 18.796875 33.203125 25.25 31.453125 \r\nQ 34.578125 28.953125 38.25 27.359375 \r\nQ 41.9375 25.78125 44.03125 22.75 \r\nQ 46.140625 19.734375 46.140625 15.234375 \r\nQ 46.140625 10.84375 43.578125 6.953125 \r\nQ 41.015625 3.078125 36.171875 0.953125 \r\nQ 31.34375 -1.171875 25.25 -1.171875 \r\nQ 15.140625 -1.171875 9.84375 3.03125 \r\nQ 4.546875 7.234375 3.078125 15.484375 \r\nz\r\n\" id=\"ArialMT-115\"/>\r\n      </defs>\r\n      <use xlink:href=\"#ArialMT-76\"/>\r\n      <use x=\"55.615234\" xlink:href=\"#ArialMT-105\"/>\r\n      <use x=\"77.832031\" xlink:href=\"#ArialMT-102\"/>\r\n      <use x=\"105.615234\" xlink:href=\"#ArialMT-101\"/>\r\n      <use x=\"161.230469\" xlink:href=\"#ArialMT-116\"/>\r\n      <use x=\"189.013672\" xlink:href=\"#ArialMT-105\"/>\r\n      <use x=\"211.230469\" xlink:href=\"#ArialMT-109\"/>\r\n      <use x=\"294.53125\" xlink:href=\"#ArialMT-101\"/>\r\n      <use x=\"350.146484\" xlink:href=\"#ArialMT-32\"/>\r\n      <use x=\"377.929688\" xlink:href=\"#ArialMT-91\"/>\r\n      <use x=\"405.712891\" xlink:href=\"#ArialMT-115\"/>\r\n      <use x=\"455.712891\" xlink:href=\"#ArialMT-93\"/>\r\n     </g>\r\n    </g>\r\n   </g>\r\n   <g id=\"line2d_93\">\r\n    <g clip-path=\"url(#pc65aa35aaf)\">\r\n     <use style=\"fill:#e24a33;stroke:#e24a33;\" x=\"60.838807\" xlink:href=\"#m60e1a1bfc3\" y=\"376.488595\"/>\r\n     <use style=\"fill:#e24a33;stroke:#e24a33;\" x=\"76.857946\" xlink:href=\"#m60e1a1bfc3\" y=\"463.292046\"/>\r\n     <use style=\"fill:#e24a33;stroke:#e24a33;\" x=\"92.877084\" xlink:href=\"#m60e1a1bfc3\" y=\"534.028246\"/>\r\n     <use style=\"fill:#e24a33;stroke:#e24a33;\" x=\"108.896223\" xlink:href=\"#m60e1a1bfc3\" y=\"514.27185\"/>\r\n     <use style=\"fill:#e24a33;stroke:#e24a33;\" x=\"124.915362\" xlink:href=\"#m60e1a1bfc3\" y=\"554.62642\"/>\r\n     <use style=\"fill:#e24a33;stroke:#e24a33;\" x=\"140.934501\" xlink:href=\"#m60e1a1bfc3\" y=\"473.984238\"/>\r\n     <use style=\"fill:#e24a33;stroke:#e24a33;\" x=\"156.953639\" xlink:href=\"#m60e1a1bfc3\" y=\"542.63844\"/>\r\n     <use style=\"fill:#e24a33;stroke:#e24a33;\" x=\"172.972778\" xlink:href=\"#m60e1a1bfc3\" y=\"513.774829\"/>\r\n     <use style=\"fill:#e24a33;stroke:#e24a33;\" x=\"188.991917\" xlink:href=\"#m60e1a1bfc3\" y=\"515.12476\"/>\r\n     <use style=\"fill:#e24a33;stroke:#e24a33;\" x=\"205.011056\" xlink:href=\"#m60e1a1bfc3\" y=\"526.384707\"/>\r\n     <use style=\"fill:#e24a33;stroke:#e24a33;\" x=\"221.030194\" xlink:href=\"#m60e1a1bfc3\" y=\"563.9558\"/>\r\n     <use style=\"fill:#e24a33;stroke:#e24a33;\" x=\"237.049333\" xlink:href=\"#m60e1a1bfc3\" y=\"525.08384\"/>\r\n     <use style=\"fill:#e24a33;stroke:#e24a33;\" x=\"253.068472\" xlink:href=\"#m60e1a1bfc3\" y=\"554.514039\"/>\r\n     <use style=\"fill:#e24a33;stroke:#e24a33;\" x=\"269.087611\" xlink:href=\"#m60e1a1bfc3\" y=\"556.620898\"/>\r\n     <use style=\"fill:#e24a33;stroke:#e24a33;\" x=\"285.106749\" xlink:href=\"#m60e1a1bfc3\" y=\"576.479546\"/>\r\n     <use style=\"fill:#e24a33;stroke:#e24a33;\" x=\"301.125888\" xlink:href=\"#m60e1a1bfc3\" y=\"590.49256\"/>\r\n     <use style=\"fill:#e24a33;stroke:#e24a33;\" x=\"317.145027\" xlink:href=\"#m60e1a1bfc3\" y=\"602.33661\"/>\r\n     <use style=\"fill:#e24a33;stroke:#e24a33;\" x=\"333.164166\" xlink:href=\"#m60e1a1bfc3\" y=\"615.934958\"/>\r\n     <use style=\"fill:#e24a33;stroke:#e24a33;\" x=\"349.183304\" xlink:href=\"#m60e1a1bfc3\" y=\"634.085077\"/>\r\n     <use style=\"fill:#e24a33;stroke:#e24a33;\" x=\"365.202443\" xlink:href=\"#m60e1a1bfc3\" y=\"646.042314\"/>\r\n    </g>\r\n   </g>\r\n   <g id=\"patch_8\">\r\n    <path d=\"M 45.620625 659.52 \r\nL 45.620625 363.010909 \r\n\" style=\"fill:none;\"/>\r\n   </g>\r\n   <g id=\"patch_9\">\r\n    <path d=\"M 380.420625 659.52 \r\nL 380.420625 363.010909 \r\n\" style=\"fill:none;\"/>\r\n   </g>\r\n   <g id=\"patch_10\">\r\n    <path d=\"M 45.620625 659.52 \r\nL 380.420625 659.52 \r\n\" style=\"fill:none;\"/>\r\n   </g>\r\n   <g id=\"patch_11\">\r\n    <path d=\"M 45.620625 363.010909 \r\nL 380.420625 363.010909 \r\n\" style=\"fill:none;\"/>\r\n   </g>\r\n   <g id=\"legend_2\">\r\n    <g id=\"line2d_94\"/>\r\n    <g id=\"line2d_95\">\r\n     <g>\r\n      <use style=\"fill:#e24a33;stroke:#e24a33;\" x=\"325.637812\" xlink:href=\"#m60e1a1bfc3\" y=\"375.790597\"/>\r\n     </g>\r\n    </g>\r\n    <g id=\"text_16\">\r\n     <!-- Cavity -->\r\n     <g style=\"fill:#262626;\" transform=\"translate(343.637812 379.290597)scale(0.1 -0.1)\">\r\n      <use xlink:href=\"#ArialMT-67\"/>\r\n      <use x=\"72.216797\" xlink:href=\"#ArialMT-97\"/>\r\n      <use x=\"127.832031\" xlink:href=\"#ArialMT-118\"/>\r\n      <use x=\"177.832031\" xlink:href=\"#ArialMT-105\"/>\r\n      <use x=\"200.048828\" xlink:href=\"#ArialMT-116\"/>\r\n      <use x=\"227.832031\" xlink:href=\"#ArialMT-121\"/>\r\n     </g>\r\n    </g>\r\n   </g>\r\n  </g>\r\n </g>\r\n <defs>\r\n  <clipPath id=\"p6155efb0bd\">\r\n   <rect height=\"296.509091\" width=\"334.8\" x=\"45.620625\" y=\"7.2\"/>\r\n  </clipPath>\r\n  <clipPath id=\"pc65aa35aaf\">\r\n   <rect height=\"296.509091\" width=\"334.8\" x=\"45.620625\" y=\"363.010909\"/>\r\n  </clipPath>\r\n </defs>\r\n</svg>\r\n",
      "image/png": "[encoded data removed]"
     },
     "metadata": {}
    }
   ],
   "source": [
    "cavity_mode = 0\n",
    "Qs_cav, freqs_cav = [], []\n",
    "\n",
    "for variation in range(len(variations_vector)):\n",
    "    try:\n",
    "        print('Variation number {}: \\n '.format(variation), eprh.get_freqs_bare_pd(variation=str(variation)) )\n",
    "        Qs_cav.append(eprh.get_freqs_bare_pd(variation=str(variation)).iloc[cavity_mode]['Quality Factor'])\n",
    "        freqs_cav.append(eprh.get_freqs_bare_pd(variation=str(variation)).iloc[cavity_mode]['Freq. (GHz)'])\n",
    "    except Exception as e:\n",
    "        print ('Error in variation', variation, e)\n",
    "        variations_vector = np.delete(variations_vector, variation)\n",
    "        continue\n",
    "\n",
    "taus_cav = np.array(Qs_cav) / (2 * np.pi * np.array(freqs_cav) * 1e9)\n",
    "\n",
    "fig, axs = plt.subplots(2, 1, figsize=(6, 12), sharex = True)\n",
    "\n",
    "#Quality factors plot\n",
    "axs[0].plot(variations_vector, Qs_cav, 'o', label = 'Cavity')\n",
    "axs[0].set_ylabel('Quality Factor')\n",
    "\n",
    "#Lifetimes plot\n",
    "axs[1].plot(variations_vector, taus_cav, 'o', label = 'Cavity')\n",
    "axs[1].set_ylabel( 'Lifetime [s]')\n",
    "\n",
    "axs[0].set_yscale('log')\n",
    "axs[0].legend()\n",
    "axs[1].set_yscale('log')\n",
    "axs[1].set_xlabel('Cavity Pin Length [mm]')\n",
    "axs[1].legend()\n",
    "\n",
    "\n",
    "fig.savefig(f'Figures/{pinfo.design_name}.png', dpi = None, bbox_inches='tight')\n",
    "print('Variations vector:', variations_vector)\n",
    "print('Cavity lifetimes:', taus_cav*1, 's')"
   ]
  },
  {
   "source": [
    "pd.DataFrame([Qs_cav, taus_cav], columns = variations_vector, index = ['Quality Factor', 'Lifetimes [s]'])"
   ],
   "cell_type": "code",
   "metadata": {},
   "execution_count": 18,
   "outputs": [
    {
     "output_type": "execute_result",
     "data": {
      "text/plain": [
       "                      14.605        15.105        15.605        16.105  \\\n",
       "Quality Factor  6.508614e+09  6.039605e+08  8.705034e+07  1.495537e+08   \n",
       "Lifetimes [s]   2.370996e-01  2.200347e-02  3.170701e-03  5.446754e-03   \n",
       "\n",
       "                      16.605        17.105        17.605        18.105  \\\n",
       "Quality Factor  4.952007e+07  4.507029e+08  6.876081e+07  1.515979e+08   \n",
       "Lifetimes [s]   1.803686e-03  1.641793e-02  2.504643e-03  5.521402e-03   \n",
       "\n",
       "                      18.605        19.105        19.605        20.105  \\\n",
       "Quality Factor  1.460799e+08  1.073283e+08  3.835024e+07  1.112385e+08   \n",
       "Lifetimes [s]   5.321000e-03  3.909017e-03  1.397003e-03  4.050793e-03   \n",
       "\n",
       "                      20.605        21.105        21.605        22.105  \\\n",
       "Quality Factor  4.968193e+07  4.689417e+07  2.721953e+07  1.854886e+07   \n",
       "Lifetimes [s]   1.809245e-03  1.707806e-03  9.913794e-04  6.754127e-04   \n",
       "\n",
       "                      22.605        23.105        23.605        24.105  \n",
       "Quality Factor  1.341162e+07  9.240537e+06  5.620401e+06  4.051501e+06  \n",
       "Lifetimes [s]   4.883106e-04  3.364787e-04  2.046822e-04  1.475234e-04  "
      ],
      "text/html": "<div>\n<style scoped>\n    .dataframe tbody tr th:only-of-type {\n        vertical-align: middle;\n    }\n\n    .dataframe tbody tr th {\n        vertical-align: top;\n    }\n\n    .dataframe thead th {\n        text-align: right;\n    }\n</style>\n<table border=\"1\" class=\"dataframe\">\n  <thead>\n    <tr style=\"text-align: right;\">\n      <th></th>\n      <th>14.605</th>\n      <th>15.105</th>\n      <th>15.605</th>\n      <th>16.105</th>\n      <th>16.605</th>\n      <th>17.105</th>\n      <th>17.605</th>\n      <th>18.105</th>\n      <th>18.605</th>\n      <th>19.105</th>\n      <th>19.605</th>\n      <th>20.105</th>\n      <th>20.605</th>\n      <th>21.105</th>\n      <th>21.605</th>\n      <th>22.105</th>\n      <th>22.605</th>\n      <th>23.105</th>\n      <th>23.605</th>\n      <th>24.105</th>\n    </tr>\n  </thead>\n  <tbody>\n    <tr>\n      <th>Quality Factor</th>\n      <td>6.508614e+09</td>\n      <td>6.039605e+08</td>\n      <td>8.705034e+07</td>\n      <td>1.495537e+08</td>\n      <td>4.952007e+07</td>\n      <td>4.507029e+08</td>\n      <td>6.876081e+07</td>\n      <td>1.515979e+08</td>\n      <td>1.460799e+08</td>\n      <td>1.073283e+08</td>\n      <td>3.835024e+07</td>\n      <td>1.112385e+08</td>\n      <td>4.968193e+07</td>\n      <td>4.689417e+07</td>\n      <td>2.721953e+07</td>\n      <td>1.854886e+07</td>\n      <td>1.341162e+07</td>\n      <td>9.240537e+06</td>\n      <td>5.620401e+06</td>\n      <td>4.051501e+06</td>\n    </tr>\n    <tr>\n      <th>Lifetimes [s]</th>\n      <td>2.370996e-01</td>\n      <td>2.200347e-02</td>\n      <td>3.170701e-03</td>\n      <td>5.446754e-03</td>\n      <td>1.803686e-03</td>\n      <td>1.641793e-02</td>\n      <td>2.504643e-03</td>\n      <td>5.521402e-03</td>\n      <td>5.321000e-03</td>\n      <td>3.909017e-03</td>\n      <td>1.397003e-03</td>\n      <td>4.050793e-03</td>\n      <td>1.809245e-03</td>\n      <td>1.707806e-03</td>\n      <td>9.913794e-04</td>\n      <td>6.754127e-04</td>\n      <td>4.883106e-04</td>\n      <td>3.364787e-04</td>\n      <td>2.046822e-04</td>\n      <td>1.475234e-04</td>\n    </tr>\n  </tbody>\n</table>\n</div>"
     },
     "metadata": {},
     "execution_count": 18
    }
   ]
  }
 ],
 "metadata": {
  "kernelspec": {
   "name": "python383jvsc74a57bd0579c51c82e14f7265b3395b2bd8a43518f73a49c7ede32289f7f03f2903e5776",
   "display_name": "Python 3.8.3 64-bit (conda)"
  },
  "language_info": {
   "codemirror_mode": {
    "name": "ipython",
    "version": 3
   },
   "file_extension": ".py",
   "mimetype": "text/x-python",
   "name": "python",
   "nbconvert_exporter": "python",
   "pygments_lexer": "ipython3",
   "version": "3.8.3-final"
  }
 },
 "nbformat": 4,
 "nbformat_minor": 4
}