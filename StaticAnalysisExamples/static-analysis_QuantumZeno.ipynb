{
 "cells": [
  {
   "cell_type": "markdown",
   "source": [
    "# Observing the Appearance of the Quantum Zeno Effect \n",
    "\n",
    "We use the program [HFSS by Ansys][HFSS], in addition with the [pyEPR python library][pyEPR] to find the parameters of the system.\n",
    "\n",
    "[HFSS]: https://www.ansys.com/products/electronics/ansys-hfss\n",
    "[pyEPR]: https://github.com/zlatko-minev/pyEPR"
   ],
   "metadata": {}
  },
  {
   "cell_type": "code",
   "execution_count": 1,
   "source": [
    "import numpy as np\r\n",
    "import matplotlib.pyplot as plt\r\n",
    "import pandas as pd\r\n",
    "import pyEPR as epr\r\n",
    "\r\n",
    "plt.style.use('ggplot')\r\n",
    "plt.style.use('seaborn-darkgrid')"
   ],
   "outputs": [],
   "metadata": {
    "tags": []
   }
  },
  {
   "cell_type": "markdown",
   "source": [
    "#### 🔹 Connecting to HFSS"
   ],
   "metadata": {}
  },
  {
   "cell_type": "code",
   "execution_count": 2,
   "source": [
    "pinfo = epr.Project_Info(project_path = '.', \r\n",
    "                         project_name = 'QuantumZeno',  # File name\r\n",
    "                         design_name  = 'WithPins')"
   ],
   "outputs": [
    {
     "output_type": "stream",
     "name": "stderr",
     "text": [
      "INFO 10:41AM [connect_project]: Connecting to Ansys Desktop API...\n",
      "INFO 10:41AM [load_ansys_project]: \tFile path to HFSS project found.\n",
      "INFO 10:41AM [load_ansys_project]: \tOpened Ansys App\n",
      "INFO 10:41AM [load_ansys_project]: \tOpened Ansys Desktop v2020.2.0\n",
      "INFO 10:41AM [load_ansys_project]: \tOpened Ansys Project\n",
      "\tFolder:    E:/QuantumZeno_LocalSimulations/\n",
      "\tProject:   QuantumZeno\n",
      "INFO 10:41AM [connect_design]: \tOpened active design\n",
      "\tDesign:    WithPins [Solution type: Eigenmode]\n",
      "INFO 10:41AM [get_setup]: \tOpened setup `Setup1`  (<class 'pyEPR.ansys.HfssEMSetup'>)\n",
      "INFO 10:41AM [connect]: \tConnected to project \"QuantumZeno\" and design \"WithPins\" 😀 \n",
      "\n"
     ]
    }
   ],
   "metadata": {
    "tags": []
   }
  },
  {
   "cell_type": "markdown",
   "source": [
    "#### 🔹 Run setup (Find modes and Q-factors in HFSS)"
   ],
   "metadata": {}
  },
  {
   "cell_type": "code",
   "execution_count": 3,
   "source": [
    "for var in pinfo.design.get_variable_names():\r\n",
    "    print(f'{var} = {pinfo.design.get_variable_value(var)}')\r\n",
    "pinfo.setup.analyze()"
   ],
   "outputs": [
    {
     "output_type": "stream",
     "name": "stderr",
     "text": [
      "INFO 10:41AM [analyze]: Analyzing setup Setup1\n"
     ]
    },
    {
     "output_type": "stream",
     "name": "stdout",
     "text": [
      "BrightTransmonXshift = 900um\n",
      "TransmonLeadWidth = 20um\n",
      "TransmonLeadLength = 90um\n",
      "TransmonPadWidth = 290um\n",
      "TransmonPadLength = 590um\n",
      "TransmonsDistance = 190um\n",
      "DarkTransmonPadLength = 560um\n",
      "DarkTransmonLj = 8nH\n",
      "BrightTransmonLj = 8nH\n",
      "DarkTransmonPadWidth = 600um\n",
      "PinLength = 5.2mm\n"
     ]
    }
   ],
   "metadata": {
    "tags": []
   }
  },
  {
   "cell_type": "markdown",
   "source": [
    "One can access the simulated results using pyEPR."
   ],
   "metadata": {}
  },
  {
   "cell_type": "code",
   "execution_count": null,
   "source": [
    "eprh = epr.DistributedAnalysis(pinfo)\r\n",
    "df = eprh.get_freqs_bare_pd(eprh.variations[0])\r\n",
    "df['Lifetime (s)'] = df['Quality Factor']/(2*np.pi*df['Freq. (GHz)']*1e9)\r\n",
    "df"
   ],
   "outputs": [
    {
     "output_type": "stream",
     "name": "stdout",
     "text": [
      "Design \"WithPins\" info:\n",
      "\t# eigenmodes    3\n",
      "\t# variations    1\n"
     ]
    },
    {
     "output_type": "execute_result",
     "data": {
      "text/plain": [
       "      Freq. (GHz)  Quality Factor  Lifetime (s)\n",
       "mode                                           \n",
       "0        5.382058    1.698788e+06  5.023552e-05\n",
       "1        6.515107    2.909624e+04  7.107803e-07\n",
       "2        7.606286    2.501775e+03  5.234748e-08"
      ],
      "text/html": [
       "<div>\n",
       "<style scoped>\n",
       "    .dataframe tbody tr th:only-of-type {\n",
       "        vertical-align: middle;\n",
       "    }\n",
       "\n",
       "    .dataframe tbody tr th {\n",
       "        vertical-align: top;\n",
       "    }\n",
       "\n",
       "    .dataframe thead th {\n",
       "        text-align: right;\n",
       "    }\n",
       "</style>\n",
       "<table border=\"1\" class=\"dataframe\">\n",
       "  <thead>\n",
       "    <tr style=\"text-align: right;\">\n",
       "      <th></th>\n",
       "      <th>Freq. (GHz)</th>\n",
       "      <th>Quality Factor</th>\n",
       "      <th>Lifetime (s)</th>\n",
       "    </tr>\n",
       "    <tr>\n",
       "      <th>mode</th>\n",
       "      <th></th>\n",
       "      <th></th>\n",
       "      <th></th>\n",
       "    </tr>\n",
       "  </thead>\n",
       "  <tbody>\n",
       "    <tr>\n",
       "      <th>0</th>\n",
       "      <td>5.382058</td>\n",
       "      <td>1.698788e+06</td>\n",
       "      <td>5.023552e-05</td>\n",
       "    </tr>\n",
       "    <tr>\n",
       "      <th>1</th>\n",
       "      <td>6.515107</td>\n",
       "      <td>2.909624e+04</td>\n",
       "      <td>7.107803e-07</td>\n",
       "    </tr>\n",
       "    <tr>\n",
       "      <th>2</th>\n",
       "      <td>7.606286</td>\n",
       "      <td>2.501775e+03</td>\n",
       "      <td>5.234748e-08</td>\n",
       "    </tr>\n",
       "  </tbody>\n",
       "</table>\n",
       "</div>"
      ]
     },
     "metadata": {},
     "execution_count": 4
    }
   ],
   "metadata": {}
  },
  {
   "cell_type": "markdown",
   "source": [
    "Here modes 0, 1 and 2 are the transmons and RO resonator modes, respectively."
   ],
   "metadata": {}
  },
  {
   "cell_type": "markdown",
   "source": [
    "#### 🔹 Define the junction (and any other non-linear component)"
   ],
   "metadata": {}
  },
  {
   "cell_type": "code",
   "execution_count": null,
   "source": [
    "pinfo.junctions['j1'] = {'Lj_variable' : 'BrightTransmonLj',\r\n",
    "                         'rect'        : 'BrightTransmonJJ', \r\n",
    "                         'line'        : 'BrightJJline', \r\n",
    "                         'length'      : epr.parse_units('100um')}\r\n",
    "\r\n",
    "pinfo.junctions['j2'] = {'Lj_variable' : 'DarkTransmonLj',\r\n",
    "                         'rect'        : 'DarkTransmonJJ',\r\n",
    "                         'line'        : 'DarkJJline',\r\n",
    "                         'length'      : epr.parse_units('100um')}\r\n",
    "\r\n",
    "# Check that valid names of variables and objects have been supplied.\r\n",
    "# An error is raised with a message if something is wrong.\r\n",
    "pinfo.validate_junction_info()"
   ],
   "outputs": [],
   "metadata": {
    "tags": []
   }
  },
  {
   "cell_type": "markdown",
   "source": [
    "#### 🔹 Distributed Analysis (not quantum)\n",
    "\n",
    "Note that **3 modes is the maximum we can fully analyze❗** See [this issue][issue]\n",
    "\n",
    "Notice that the modes numbers one wishes to analyze need to be inserted *manually*. They can be identified by looking at the field plots in HFSS.\n",
    "\n",
    "[issue]: https://github.com/zlatko-minev/pyEPR/issues/36"
   ],
   "metadata": {}
  },
  {
   "cell_type": "code",
   "execution_count": null,
   "source": [
    "modes = [0, 1, 2]\r\n",
    "eprh.do_EPR_analysis(modes=modes)"
   ],
   "outputs": [
    {
     "output_type": "stream",
     "name": "stdout",
     "text": [
      "\n",
      "Variation 0  [1/1]\n",
      "\n",
      "  \u001b[1mMode 0 at 5.38 GHz   [1/3]\u001b[0m\n",
      "    Calculating ℰ_magnetic,ℰ_electric\n",
      "       (ℰ_E-ℰ_H)/ℰ_E       ℰ_E       ℰ_H\n",
      "               97.4%  2.203e-24 5.714e-26\n",
      "\n",
      "    Calculating junction energy participation ration (EPR)\n",
      "\tmethod=`line_voltage`. First estimates:\n",
      "\tjunction        EPR p_0j   sign s_0j    (p_capacitive)\n",
      "\t\tEnergy fraction (Lj over Lj&Cj)= 98.20%\n",
      "\tj1              0.037965  (+)        0.000694641\n",
      "\t\tEnergy fraction (Lj over Lj&Cj)= 98.20%\n",
      "\tj2              0.935339  (+)        0.0171138\n",
      "\t\t(U_tot_cap-U_tot_ind)/mean=0.92%\n",
      "\n",
      "  \u001b[1mMode 1 at 6.52 GHz   [2/3]\u001b[0m\n",
      "    Calculating ℰ_magnetic,ℰ_electric\n",
      "       (ℰ_E-ℰ_H)/ℰ_E       ℰ_E       ℰ_H\n",
      "               93.0%  4.088e-25 2.865e-26\n",
      "\n",
      "    Calculating junction energy participation ration (EPR)\n",
      "\tmethod=`line_voltage`. First estimates:\n",
      "\tjunction        EPR p_1j   sign s_1j    (p_capacitive)\n",
      "\t\tEnergy fraction (Lj over Lj&Cj)= 97.39%\n",
      "\tj1              0.890382  (+)        0.0238726\n",
      "\t\tEnergy fraction (Lj over Lj&Cj)= 97.39%\n",
      "\tj2              0.0393746  (+)        0.0010557\n",
      "\t\t(U_tot_cap-U_tot_ind)/mean=1.24%\n",
      "\n",
      "  \u001b[1mMode 2 at 7.61 GHz   [3/3]\u001b[0m\n",
      "    Calculating ℰ_magnetic,ℰ_electric\n",
      "       (ℰ_E-ℰ_H)/ℰ_E       ℰ_E       ℰ_H\n",
      "                4.1%  6.644e-24 6.375e-24\n",
      "\n",
      "    Calculating junction energy participation ration (EPR)\n",
      "\tmethod=`line_voltage`. First estimates:\n",
      "\tjunction        EPR p_2j   sign s_2j    (p_capacitive)\n",
      "\t\tEnergy fraction (Lj over Lj&Cj)= 96.47%\n",
      "\tj1              0.0402485  (+)        0.00147087\n",
      "\t\tEnergy fraction (Lj over Lj&Cj)= 96.47%\n",
      "\tj2              0.00025555  (+)        9.33902e-06\n",
      "\t\t(U_tot_cap-U_tot_ind)/mean=0.07%\n",
      "\n",
      "ANALYSIS DONE. Data saved to:\n",
      "\n",
      "C:\\data-pyEPR\\QuantumZeno\\WithPins\\2021-08-10 16-05-05.npz\n",
      "\n",
      "\n"
     ]
    },
    {
     "output_type": "execute_result",
     "data": {
      "text/plain": [
       "(WindowsPath('C:/data-pyEPR/QuantumZeno/WithPins/2021-08-10 16-05-05.npz'),\n",
       " ['0'])"
      ]
     },
     "metadata": {},
     "execution_count": 6
    }
   ],
   "metadata": {
    "tags": []
   }
  },
  {
   "cell_type": "markdown",
   "source": [
    "#### 🔹 Quantum Analysis (yes quantum)"
   ],
   "metadata": {}
  },
  {
   "cell_type": "code",
   "execution_count": null,
   "source": [
    "epra = epr.QuantumAnalysis(eprh.data_filename)\r\n",
    "epra.analyze_all_variations(cos_trunc = 8, fock_trunc = 15)"
   ],
   "outputs": [
    {
     "output_type": "stream",
     "name": "stderr",
     "text": [
      "WARNING 04:05PM [__init__]: <p>Error: <class 'IndexError'></p>\n"
     ]
    },
    {
     "output_type": "stream",
     "name": "stdout",
     "text": [
      "\t Differences in variations:\n",
      "\n",
      "\n",
      "\n",
      " . . . . . . . . . . . . . . . . . . . . . . . . . . . . . . . . . . . . . . . . \n",
      "Variation 0\n",
      "\n",
      "Starting the diagonalization\n",
      "Finished the diagonalization\n",
      "Pm_norm=\n",
      "modes\n",
      "0    1.018830\n",
      "1    1.026062\n",
      "2    1.019120\n",
      "dtype: float64\n",
      "\n",
      "Pm_norm idx =\n",
      "      j1     j2\n",
      "0  False   True\n",
      "1   True  False\n",
      "2  False  False\n",
      "*** P (participation matrix, not normlz.)\n",
      "         j1        j2\n",
      "0  0.037301  0.918974\n",
      "1  0.868726  0.038417\n",
      "2  0.040189  0.000255\n",
      "\n",
      "*** S (sign-bit matrix)\n",
      "   s_j1  s_j2\n",
      "0     1     1\n",
      "1     1     1\n",
      "2     1     1\n",
      "*** P (participation matrix, normalized.)\n",
      "     0.037     0.94\n",
      "      0.89    0.038\n",
      "      0.04  0.00026\n",
      "\n",
      "*** Chi matrix O1 PT (MHz)\n",
      "    Diag is anharmonicity, off diag is full cross-Kerr.\n",
      "       156     29.7    0.871\n",
      "      29.7      207     21.7\n",
      "     0.871     21.7    0.572\n",
      "\n",
      "*** Chi matrix ND (MHz) \n",
      "       184     51.1     0.72\n",
      "      51.1      214     13.2\n",
      "      0.72     13.2    0.252\n",
      "\n",
      "*** Frequencies O1 PT (MHz)\n",
      "0    5211.185779\n",
      "1    6282.693133\n",
      "2    7594.415388\n",
      "dtype: float64\n",
      "\n",
      "*** Frequencies ND (MHz)\n",
      "0    5196.784170\n",
      "1    6275.589144\n",
      "2    7596.160382\n",
      "dtype: float64\n",
      "\n",
      "*** Q_coupling\n",
      "Empty DataFrame\n",
      "Columns: []\n",
      "Index: [0, 1, 2]\n"
     ]
    },
    {
     "output_type": "execute_result",
     "data": {
      "text/plain": [
       "OrderedDict([('0',\n",
       "              OrderedDict([('f_0', 0    5382.058204\n",
       "                            1    6515.107460\n",
       "                            2    7606.285631\n",
       "                            Name: 0, dtype: float64),\n",
       "                           ('f_1',\n",
       "                            0    5211.185779\n",
       "                            1    6282.693133\n",
       "                            2    7594.415388\n",
       "                            dtype: float64),\n",
       "                           ('f_ND',\n",
       "                            0    5196.784170\n",
       "                            1    6275.589144\n",
       "                            2    7596.160382\n",
       "                            dtype: float64),\n",
       "                           ('chi_O1',\n",
       "                                        0           1          2\n",
       "                            0  155.589070   29.696181   0.870529\n",
       "                            1   29.696181  206.702950  21.726574\n",
       "                            2    0.870529   21.726574   0.571691),\n",
       "                           ('chi_ND',\n",
       "                                        0           1          2\n",
       "                            0  183.792059   51.141465   0.719625\n",
       "                            1   51.141465  214.319960  13.240475\n",
       "                            2    0.719625   13.240475   0.252360),\n",
       "                           ('ZPF',\n",
       "                            array([[0.07008988, 0.35115487],\n",
       "                                   [0.37697391, 0.07826078],\n",
       "                                   [0.08648925, 0.00689169]])),\n",
       "                           ('Pm_normed',\n",
       "                            array([[3.73007638e-02, 9.36277378e-01],\n",
       "                                   [8.91366960e-01, 3.84168937e-02],\n",
       "                                   [4.01889992e-02, 2.55172517e-04]])),\n",
       "                           ('Pm_raw',\n",
       "                            0    0.037301\n",
       "                            1    0.868726\n",
       "                            2    0.040189\n",
       "                            Name: j1, dtype: float64),\n",
       "                           ('_Pm_norm',\n",
       "                            modes\n",
       "                            0    1.018830\n",
       "                            1    1.026062\n",
       "                            2    1.019120\n",
       "                            dtype: float64),\n",
       "                           ('_Pm_cap_norm',\n",
       "                            modes\n",
       "                            0    0.483147\n",
       "                            1    0.502706\n",
       "                            2    0.497897\n",
       "                            dtype: float64),\n",
       "                           ('hfss_variables',\n",
       "                            _$CavityHeight            22.800000000000001mm\n",
       "                            _$CavityLength                          35.5mm\n",
       "                            _$CavityWidth             5.0800000000000001mm\n",
       "                            _$ChipLength                               7mm\n",
       "                            _$ChipThickness                          430um\n",
       "                            _$ChipWidth               2.8999999999999999mm\n",
       "                            _$JJlength                                10um\n",
       "                            _$JJwidth                                  4um\n",
       "                            _$PinChipDistance                        1.5mm\n",
       "                            _$PinHoleLength                            5mm\n",
       "                            _$PinHoleRadius           1.4610000000000001mm\n",
       "                            _$PinRadius                              25mil\n",
       "                            _BrightTransmonLj                          8nH\n",
       "                            _BrightTransmonXshift                    850um\n",
       "                            _DarkTransmonLj                            8nH\n",
       "                            _DarkTransmonPadLength                   580um\n",
       "                            _DarkTransmonPadWidth                    580um\n",
       "                            _PinLength                5.2000000000000002mm\n",
       "                            _TransmonLeadLength                       90um\n",
       "                            _TransmonLeadWidth                        20um\n",
       "                            _TransmonPadLength                       610um\n",
       "                            _TransmonPadWidth                        290um\n",
       "                            _TransmonsDistance                       170um\n",
       "                            Name: 0, dtype: object),\n",
       "                           ('Ljs',\n",
       "                            j1    8.000000e-09\n",
       "                            j2    8.000000e-09\n",
       "                            Name: 0, dtype: float64),\n",
       "                           ('Cjs',\n",
       "                            j1    2.000000e-15\n",
       "                            j2    2.000000e-15\n",
       "                            Name: 0, dtype: float64),\n",
       "                           ('Q_coupling',\n",
       "                            Empty DataFrame\n",
       "                            Columns: []\n",
       "                            Index: [0, 1, 2]),\n",
       "                           ('Qs',\n",
       "                            0    1.698788e+06\n",
       "                            1    2.909624e+04\n",
       "                            2    2.501775e+03\n",
       "                            Name: 0, dtype: float64),\n",
       "                           ('fock_trunc', 15),\n",
       "                           ('cos_trunc', 8)]))])"
      ]
     },
     "metadata": {},
     "execution_count": 7
    }
   ],
   "metadata": {
    "tags": []
   }
  },
  {
   "cell_type": "code",
   "execution_count": null,
   "source": [
    "# elements_names = ['bright', 'dark', 'readout']\r\n",
    "elements_names = ['dark', 'bright', 'readout']\r\n",
    "df2 = epra.get_frequencies(numeric=True) \r\n",
    "df2.columns = ['Freq. ND (MHz)']\r\n",
    "df2['Quality Factor'] = eprh.get_freqs_bare_pd(eprh.variations[0]).loc[modes]['Quality Factor']\r\n",
    "df2['Lifetime (s)'] = df2['Quality Factor']/(2*np.pi*df2['Freq. ND (MHz)']*1e6)\r\n",
    "df2.index = elements_names\r\n",
    "display(df2)"
   ],
   "outputs": [
    {
     "output_type": "display_data",
     "data": {
      "text/plain": [
       "         Freq. ND (MHz)  Quality Factor  Lifetime (s)\n",
       "bright      5196.784170    1.698788e+06  5.202650e-05\n",
       "dark        6275.589144    2.909624e+04  7.379084e-07\n",
       "readout     7596.160382    2.501775e+03  5.241725e-08"
      ],
      "text/html": [
       "<div>\n",
       "<style scoped>\n",
       "    .dataframe tbody tr th:only-of-type {\n",
       "        vertical-align: middle;\n",
       "    }\n",
       "\n",
       "    .dataframe tbody tr th {\n",
       "        vertical-align: top;\n",
       "    }\n",
       "\n",
       "    .dataframe thead th {\n",
       "        text-align: right;\n",
       "    }\n",
       "</style>\n",
       "<table border=\"1\" class=\"dataframe\">\n",
       "  <thead>\n",
       "    <tr style=\"text-align: right;\">\n",
       "      <th></th>\n",
       "      <th>Freq. ND (MHz)</th>\n",
       "      <th>Quality Factor</th>\n",
       "      <th>Lifetime (s)</th>\n",
       "    </tr>\n",
       "  </thead>\n",
       "  <tbody>\n",
       "    <tr>\n",
       "      <th>bright</th>\n",
       "      <td>5196.784170</td>\n",
       "      <td>1.698788e+06</td>\n",
       "      <td>5.202650e-05</td>\n",
       "    </tr>\n",
       "    <tr>\n",
       "      <th>dark</th>\n",
       "      <td>6275.589144</td>\n",
       "      <td>2.909624e+04</td>\n",
       "      <td>7.379084e-07</td>\n",
       "    </tr>\n",
       "    <tr>\n",
       "      <th>readout</th>\n",
       "      <td>7596.160382</td>\n",
       "      <td>2.501775e+03</td>\n",
       "      <td>5.241725e-08</td>\n",
       "    </tr>\n",
       "  </tbody>\n",
       "</table>\n",
       "</div>"
      ]
     },
     "metadata": {}
    }
   ],
   "metadata": {}
  },
  {
   "cell_type": "markdown",
   "source": [
    "### Cross-kerr and anharmonicities\n",
    "\n",
    "pyEPR just calculated for us all the elements of $\\chi_{ij}$ ($3\\times 3$ symmetric matrix).\n",
    "The diagonal elements of the matrix are the anharmonicities $\\alpha_i$ and the off-diagonal elements are the coupling between the modes."
   ],
   "metadata": {}
  },
  {
   "cell_type": "code",
   "execution_count": null,
   "source": [
    "chis = epra.get_chis()\r\n",
    "\r\n",
    "# anharmonicities\r\n",
    "alphas = np.diag(chis)\r\n",
    "alphas_df = pd.DataFrame({'Anharmonicity (MHz)': alphas}, index=elements_names)\r\n",
    "display(alphas_df)\r\n",
    "\r\n",
    "# cross-Kerr\r\n",
    "chis = [chis[i][j] for i in range(len(elements_names)) for j in range(len(elements_names)) if i<j]\r\n",
    "index = [f'{elements_names[i]}-{elements_names[j]}' for i in range(len(elements_names)) for j in range(len(elements_names)) if i<j]\r\n",
    "chis_df = pd.DataFrame({'Coupling (MHz)': chis}, index=index)\r\n",
    "display(chis_df)"
   ],
   "outputs": [
    {
     "output_type": "display_data",
     "data": {
      "text/plain": [
       "         Anharmonicity (MHz)\n",
       "bright            183.792059\n",
       "dark              214.319960\n",
       "readout             0.252360"
      ],
      "text/html": [
       "<div>\n",
       "<style scoped>\n",
       "    .dataframe tbody tr th:only-of-type {\n",
       "        vertical-align: middle;\n",
       "    }\n",
       "\n",
       "    .dataframe tbody tr th {\n",
       "        vertical-align: top;\n",
       "    }\n",
       "\n",
       "    .dataframe thead th {\n",
       "        text-align: right;\n",
       "    }\n",
       "</style>\n",
       "<table border=\"1\" class=\"dataframe\">\n",
       "  <thead>\n",
       "    <tr style=\"text-align: right;\">\n",
       "      <th></th>\n",
       "      <th>Anharmonicity (MHz)</th>\n",
       "    </tr>\n",
       "  </thead>\n",
       "  <tbody>\n",
       "    <tr>\n",
       "      <th>bright</th>\n",
       "      <td>183.792059</td>\n",
       "    </tr>\n",
       "    <tr>\n",
       "      <th>dark</th>\n",
       "      <td>214.319960</td>\n",
       "    </tr>\n",
       "    <tr>\n",
       "      <th>readout</th>\n",
       "      <td>0.252360</td>\n",
       "    </tr>\n",
       "  </tbody>\n",
       "</table>\n",
       "</div>"
      ]
     },
     "metadata": {}
    },
    {
     "output_type": "display_data",
     "data": {
      "text/plain": [
       "                Coupling (MHz)\n",
       "bright-dark          51.141465\n",
       "bright-readout        0.719625\n",
       "dark-readout         13.240475"
      ],
      "text/html": [
       "<div>\n",
       "<style scoped>\n",
       "    .dataframe tbody tr th:only-of-type {\n",
       "        vertical-align: middle;\n",
       "    }\n",
       "\n",
       "    .dataframe tbody tr th {\n",
       "        vertical-align: top;\n",
       "    }\n",
       "\n",
       "    .dataframe thead th {\n",
       "        text-align: right;\n",
       "    }\n",
       "</style>\n",
       "<table border=\"1\" class=\"dataframe\">\n",
       "  <thead>\n",
       "    <tr style=\"text-align: right;\">\n",
       "      <th></th>\n",
       "      <th>Coupling (MHz)</th>\n",
       "    </tr>\n",
       "  </thead>\n",
       "  <tbody>\n",
       "    <tr>\n",
       "      <th>bright-dark</th>\n",
       "      <td>51.141465</td>\n",
       "    </tr>\n",
       "    <tr>\n",
       "      <th>bright-readout</th>\n",
       "      <td>0.719625</td>\n",
       "    </tr>\n",
       "    <tr>\n",
       "      <th>dark-readout</th>\n",
       "      <td>13.240475</td>\n",
       "    </tr>\n",
       "  </tbody>\n",
       "</table>\n",
       "</div>"
      ]
     },
     "metadata": {}
    }
   ],
   "metadata": {}
  },
  {
   "cell_type": "code",
   "execution_count": null,
   "source": [
    "# chis_df.to_clipboard(excel=False)"
   ],
   "outputs": [],
   "metadata": {}
  }
 ],
 "metadata": {
  "interpreter": {
   "hash": "979bb4705d2304de7131bf5dc26ff5f5c210e49a3e2f392d4b92e57f3ee192f9"
  },
  "kernelspec": {
   "name": "python3",
   "display_name": "Python 3.8.10 64-bit ('pyEPR_simulations': conda)"
  },
  "language_info": {
   "codemirror_mode": {
    "name": "ipython",
    "version": 3
   },
   "file_extension": ".py",
   "mimetype": "text/x-python",
   "name": "python",
   "nbconvert_exporter": "python",
   "pygments_lexer": "ipython3",
   "version": "3.8.10"
  }
 },
 "nbformat": 4,
 "nbformat_minor": 4
}