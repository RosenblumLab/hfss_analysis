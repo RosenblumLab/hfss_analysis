{
 "cells": [
  {
   "cell_type": "markdown",
   "metadata": {},
   "source": [
    "## Finding theoretical quantum parameters of a superconducting cavity-transmon-readout system🥳\n",
    "\n",
    "We use the program [HFSS by Ansys][HFSS], in addition with the [pyEPR python library][pyEPR] to find the parameters of the system. Without getting too much into details,\n",
    "the system can be divided into three main parts:\n",
    "\n",
    "* **The superconducting cavity -** A [Superconducting Radio Frequency (SRF) cavity][SRF], inside which our bosonic qubit is encoded.\n",
    "\n",
    "* **The Transmon - ** The Transmon is a device based on the [Josephson effect][Josephson], it is used to add non-linearity and qunatumness to the otherwise classical enregy spectrum of the cavity.\n",
    "\n",
    "* **The read-out resonator - ** The read-out (RO) resonator is simply a strip-line of a superconductor that is coupled to the transmon dispersively, this way we can use\n",
    "its frequency shifts to measure the state of the transmon.\n",
    "\n",
    "There are many parameters we may care about in our system, and in this notebook we'll find them with the help of HFSS and pyEPR. The most basic parameters we may care about are the\n",
    "frequencies of our devices, the cavity and read-out have resonating frequencies based on the *geometry* we set in HFSS while the transmon frequency emarges from the Josephson effect,\n",
    "and since it is a quantum effect, we need to define the junction parameters in code, and from that get a more precise frequency.\n",
    "\n",
    "*Note:* Each device can have many resonating frequencies and it might be a bit difficult to distinguish which mode coresponds to which element, there are a couple of ways you can go about it. The easiest is to simply plot the EM field magnitude of each mode and see where the field is the strongest. If the devices are close\n",
    "to one another they might be difficult to distinguish so another mehod is to use the pyEPR module and find the anharmonicities. Expect the transmon mode to be the only one which is very non-linear (100s of MHz).\n",
    "\n",
    "Secondly, HFSS also gives the quality factors (equivalent to lifetime using $Q = \\omega \\tau$) of the modes it finds.\n",
    "\n",
    "Another set of parameters we may care about are the coupling between the modes, denoted $\\chi_{ij}$ for the coupling between the modes $\\omega_i$ and $\\omega_j$, this is sometimes called\n",
    "the *cross-kerr* frequencies if $i \\ne j$. In the case where $i=j$, $\\chi_{ii}$ is the *anharmonicity* of the mode $\\omega_i$, usually denoted $\\alpha_i$. These parameters are strictly quantum and one has to run pyEPR in order to calculate them.\n",
    "\n",
    "[HFSS]: https://www.ansys.com/products/electronics/ansys-hfss\n",
    "[pyEPR]: https://github.com/zlatko-minev/pyEPR\n",
    "[SRF]: https://en.wikipedia.org/wiki/Superconducting_radio_frequency\n",
    "[Josephson]: https://en.wikipedia.org/wiki/Josephson_effect"
   ]
  },
  {
   "cell_type": "code",
   "execution_count": 10,
   "metadata": {
    "tags": []
   },
   "outputs": [],
   "source": [
    "import numpy as np\n",
    "import matplotlib.pyplot as plt\n",
    "import pandas as pd\n",
    "import pyEPR as epr\n",
    "\n",
    "plt.style.use('ggplot')\n",
    "plt.style.use('seaborn-darkgrid')"
   ]
  },
  {
   "cell_type": "markdown",
   "metadata": {},
   "source": [
    "#### 🔹 Connecting to HFSS"
   ]
  },
  {
   "cell_type": "code",
   "execution_count": 11,
   "metadata": {
    "tags": []
   },
   "outputs": [
    {
     "output_type": "stream",
     "name": "stderr",
     "text": [
      "INFO 10:32AM [connect]: Connecting to Ansys Desktop API...\n",
      "INFO 10:32AM [load_ansys_project]: \tFile path to HFSS project found.\n",
      "INFO 10:32AM [load_ansys_project]: \tOpened Ansys App\n",
      "INFO 10:32AM [load_ansys_project]: \tOpened Ansys Desktop v2020.2.0\n",
      "INFO 10:32AM [load_ansys_project]: \tOpened Ansys Project\n",
      "\tFolder:    C:/Users/barkayg/Dropbox (Weizmann Institute)/Quantum Circuits Lab/Experiments/Ket/20210405_CD6/Simulations/\n",
      "\tProject:   20210405_CD6\n",
      "INFO 10:32AM [connect]: \tOpened active design\n",
      "\tDesign:    CavityCopperPins [Solution type: Eigenmode]\n",
      "INFO 10:32AM [get_setup]: \tOpened setup `Setup1`  (<class 'pyEPR.ansys.HfssEMSetup'>)\n",
      "INFO 10:32AM [connect]: \tConnection to Ansys established successfully. 😀 \n",
      "\n"
     ]
    }
   ],
   "source": [
    "pinfo = epr.Project_Info(project_path = '.', \n",
    "                         project_name = '20210405_CD6',  # File name\n",
    "                         design_name  = 'CavityCopperPins')"
   ]
  },
  {
   "cell_type": "markdown",
   "metadata": {},
   "source": [
    "#### 🔹 Run setup (Find modes and Q-factors in HFSS)"
   ]
  },
  {
   "cell_type": "code",
   "execution_count": 12,
   "metadata": {
    "tags": []
   },
   "outputs": [
    {
     "output_type": "stream",
     "name": "stderr",
     "text": [
      "INFO 10:32AM [analyze]: Analyzing setup Setup1\n",
      "Wall time: 2min 25s\n"
     ]
    }
   ],
   "source": [
    "%%time\n",
    "pinfo.setup.analyze()"
   ]
  },
  {
   "source": [
    "One can access the simulated results using pyEPR."
   ],
   "cell_type": "markdown",
   "metadata": {}
  },
  {
   "cell_type": "code",
   "execution_count": 13,
   "metadata": {},
   "outputs": [
    {
     "output_type": "stream",
     "name": "stdout",
     "text": [
      "Design \"CavityCopperPins\" info:\n\t# eigenmodes    5\n\t# variations    1\n"
     ]
    },
    {
     "output_type": "execute_result",
     "data": {
      "text/plain": [
       "      Freq. (GHz)  Quality Factor  Lifetime (s)\n",
       "mode                                           \n",
       "0        4.367678    4.537884e+05  1.653571e-05\n",
       "1        5.434226    1.252216e+03  3.667428e-08\n",
       "2        6.393231    1.738647e+03  4.328239e-08\n",
       "3        6.492255    6.523918e+07  1.599312e-03\n",
       "4        6.494370    5.307992e+07  1.300808e-03"
      ],
      "text/html": "<div>\n<style scoped>\n    .dataframe tbody tr th:only-of-type {\n        vertical-align: middle;\n    }\n\n    .dataframe tbody tr th {\n        vertical-align: top;\n    }\n\n    .dataframe thead th {\n        text-align: right;\n    }\n</style>\n<table border=\"1\" class=\"dataframe\">\n  <thead>\n    <tr style=\"text-align: right;\">\n      <th></th>\n      <th>Freq. (GHz)</th>\n      <th>Quality Factor</th>\n      <th>Lifetime (s)</th>\n    </tr>\n    <tr>\n      <th>mode</th>\n      <th></th>\n      <th></th>\n      <th></th>\n    </tr>\n  </thead>\n  <tbody>\n    <tr>\n      <th>0</th>\n      <td>4.367678</td>\n      <td>4.537884e+05</td>\n      <td>1.653571e-05</td>\n    </tr>\n    <tr>\n      <th>1</th>\n      <td>5.434226</td>\n      <td>1.252216e+03</td>\n      <td>3.667428e-08</td>\n    </tr>\n    <tr>\n      <th>2</th>\n      <td>6.393231</td>\n      <td>1.738647e+03</td>\n      <td>4.328239e-08</td>\n    </tr>\n    <tr>\n      <th>3</th>\n      <td>6.492255</td>\n      <td>6.523918e+07</td>\n      <td>1.599312e-03</td>\n    </tr>\n    <tr>\n      <th>4</th>\n      <td>6.494370</td>\n      <td>5.307992e+07</td>\n      <td>1.300808e-03</td>\n    </tr>\n  </tbody>\n</table>\n</div>"
     },
     "metadata": {},
     "execution_count": 13
    }
   ],
   "source": [
    "eprh = epr.DistributedAnalysis(pinfo)\n",
    "df = eprh.get_freqs_bare_pd(eprh.variations[0])\n",
    "df['Lifetime (s)'] = df['Quality Factor']/(2*np.pi*df['Freq. (GHz)']*1e9)\n",
    "df"
   ]
  },
  {
   "source": [
    "Here modes 0, 1 and 2 are the cavity, transmon and RO resonator modes, respectively."
   ],
   "cell_type": "markdown",
   "metadata": {}
  },
  {
   "cell_type": "markdown",
   "metadata": {},
   "source": [
    "#### 🔹 Define the junction (and any other non-linear component)"
   ]
  },
  {
   "cell_type": "code",
   "execution_count": 14,
   "metadata": {
    "tags": []
   },
   "outputs": [],
   "source": [
    "pinfo.junctions['j1'] = {'Lj_variable' : 'Lj',\n",
    "                         'rect'        : 'rect_jj1', \n",
    "                         'line'        : 'line_jj1', \n",
    "                         'length'      : epr.parse_units('100um')}\n",
    "\n",
    "# Check that valid names of variables and objects have been supplied.\n",
    "# An error is raised with a message if something is wrong.\n",
    "pinfo.validate_junction_info()"
   ]
  },
  {
   "cell_type": "markdown",
   "metadata": {},
   "source": [
    "#### 🔹 Distributed Analysis (not quantum)\n",
    "\n",
    "Note that **3 modes is the maximum we can analyze fully❗** See [this issue][issue]\n",
    "\n",
    "Notice that the modes numbers one wishes to analyze need to be inserted *manually*. They can be identified by looking at the field plots in HFSS.\n",
    "\n",
    "[issue]: https://github.com/zlatko-minev/pyEPR/issues/36"
   ]
  },
  {
   "cell_type": "code",
   "execution_count": 15,
   "metadata": {
    "tags": []
   },
   "outputs": [
    {
     "output_type": "stream",
     "name": "stdout",
     "text": [
      "\n",
      "Variation 0  [1/1]\n",
      "\n",
      "  \u001b[1mMode 0 at 4.37 GHz   [1/5]\u001b[0m\n",
      "    Calculating ℰ_magnetic,ℰ_electric\n",
      "       (ℰ_E-ℰ_H)/ℰ_E       ℰ_E       ℰ_H\n",
      "                0.2%  2.804e-21   2.8e-21\n",
      "\n",
      "    Calculating junction energy participation ration (EPR)\n",
      "\tmethod=`line_voltage`. First estimates:\n",
      "\tjunction        EPR p_0j   sign s_0j    (p_capacitive)\n",
      "\t\tEnergy fraction (Lj over Lj&Cj)= 99.20%\n",
      "\tj1              0.00117755  (+)        9.48904e-06\n",
      "\t\t(U_tot_cap-U_tot_ind)/mean=0.02%\n",
      "\n",
      "  \u001b[1mMode 1 at 5.43 GHz   [2/5]\u001b[0m\n",
      "    Calculating ℰ_magnetic,ℰ_electric\n",
      "       (ℰ_E-ℰ_H)/ℰ_E       ℰ_E       ℰ_H\n",
      "               92.3%  2.293e-24 1.769e-25\n",
      "\n",
      "    Calculating junction energy participation ration (EPR)\n",
      "\tmethod=`line_voltage`. First estimates:\n",
      "\tjunction        EPR p_1j   sign s_1j    (p_capacitive)\n",
      "\t\tEnergy fraction (Lj over Lj&Cj)= 98.77%\n",
      "\tj1              0.919766  (+)        0.0114735\n",
      "\t\t(U_tot_cap-U_tot_ind)/mean=0.72%\n",
      "\n",
      "  \u001b[1mMode 2 at 6.39 GHz   [3/5]\u001b[0m\n",
      "    Calculating ℰ_magnetic,ℰ_electric\n",
      "       (ℰ_E-ℰ_H)/ℰ_E       ℰ_E       ℰ_H\n",
      "                4.9%  3.975e-23 3.779e-23\n",
      "\n",
      "    Calculating junction energy participation ration (EPR)\n",
      "\tmethod=`line_voltage`. First estimates:\n",
      "\tjunction        EPR p_2j   sign s_2j    (p_capacitive)\n",
      "\t\tEnergy fraction (Lj over Lj&Cj)= 98.30%\n",
      "\tj1              0.0381862  (+)        0.000659311\n",
      "\t\t(U_tot_cap-U_tot_ind)/mean=0.60%\n",
      "\n",
      "ANALYSIS DONE. Data saved to:\n",
      "\n",
      "E:\\data-pyEPR\\20210405_CD6\\CavityCopperPins\\2021-04-06 10-35-04.npz\n",
      "\n",
      "\n"
     ]
    }
   ],
   "source": [
    "eprh.do_EPR_analysis(modes=[0,1,2]);"
   ]
  },
  {
   "cell_type": "markdown",
   "metadata": {},
   "source": [
    "#### 🔹 Quantum Analysis (yes quantum)"
   ]
  },
  {
   "cell_type": "code",
   "execution_count": 7,
   "metadata": {
    "tags": []
   },
   "outputs": [
    {
     "output_type": "stream",
     "name": "stderr",
     "text": [
      "WARNING 10:30AM [__init__]: <p>Error: <class 'IndexError'></p>\n",
      "\t Differences in variations:\n",
      "\n",
      "\n",
      "\n",
      " . . . . . . . . . . . . . . . . . . . . . . . . . . . . . . . . . . . . . . . . \n",
      "Variation 0\n",
      "\n",
      "Starting the diagonalization\n",
      "Finished the diagonalization\n",
      "Pm_norm=\n",
      "modes\n",
      "0    1.176632\n",
      "1    1.015218\n",
      "2    1.162278\n",
      "dtype: float64\n",
      "\n",
      "Pm_norm idx =\n",
      "      j1\n",
      "0  False\n",
      "1   True\n",
      "2  False\n",
      "*** P (participation matrix, not normlz.)\n",
      "         j1\n",
      "0  0.001178\n",
      "1  0.909328\n",
      "2  0.038168\n",
      "\n",
      "*** S (sign-bit matrix)\n",
      "   s_j1\n",
      "0     1\n",
      "1     1\n",
      "2     1\n",
      "*** P (participation matrix, normalized.)\n",
      "    0.0012\n",
      "      0.92\n",
      "     0.038\n",
      "\n",
      "*** Chi matrix O1 PT (MHz)\n",
      "    Diag is anharmonicity, off diag is full cross-Kerr.\n",
      "  0.000108    0.211   0.0103\n",
      "     0.211      103       10\n",
      "    0.0103       10    0.244\n",
      "\n",
      "*** Chi matrix ND (MHz) \n",
      "   0.00019    0.319  0.00542\n",
      "     0.319      111      7.7\n",
      "   0.00542      7.7    0.155\n",
      "\n",
      "*** Frequencies O1 PT (MHz)\n",
      "0    4367.566088\n",
      "1    5326.145749\n",
      "2    6387.905960\n",
      "dtype: float64\n",
      "\n",
      "*** Frequencies ND (MHz)\n",
      "0    4367.550243\n",
      "1    5323.327916\n",
      "2    6388.353292\n",
      "dtype: float64\n",
      "\n",
      "*** Q_coupling\n",
      "Empty DataFrame\n",
      "Columns: []\n",
      "Index: [0, 1, 2]\n"
     ]
    }
   ],
   "source": [
    "epra = epr.QuantumAnalysis(eprh.data_filename)\n",
    "epra.analyze_all_variations(cos_trunc = 8, fock_trunc = 15);"
   ]
  },
  {
   "cell_type": "markdown",
   "metadata": {},
   "source": [
    "### Cross-kerr and anharmonicities\n",
    "\n",
    "pyEPR just calculated for us all the elemets of $\\chi_{ij}$ ($3\\times 3$ symmetric matrix)"
   ]
  },
  {
   "cell_type": "code",
   "execution_count": 8,
   "metadata": {
    "tags": []
   },
   "outputs": [
    {
     "output_type": "execute_result",
     "data": {
      "text/plain": [
       "                    0           1         2\n",
       "variation                                  \n",
       "0         0  0.000190    0.318704  0.005424\n",
       "          1  0.318704  110.888925  7.703347\n",
       "          2  0.005424    7.703347  0.154923"
      ],
      "text/html": "<div>\n<style scoped>\n    .dataframe tbody tr th:only-of-type {\n        vertical-align: middle;\n    }\n\n    .dataframe tbody tr th {\n        vertical-align: top;\n    }\n\n    .dataframe thead th {\n        text-align: right;\n    }\n</style>\n<table border=\"1\" class=\"dataframe\">\n  <thead>\n    <tr style=\"text-align: right;\">\n      <th></th>\n      <th></th>\n      <th>0</th>\n      <th>1</th>\n      <th>2</th>\n    </tr>\n    <tr>\n      <th>variation</th>\n      <th></th>\n      <th></th>\n      <th></th>\n      <th></th>\n    </tr>\n  </thead>\n  <tbody>\n    <tr>\n      <th rowspan=\"3\" valign=\"top\">0</th>\n      <th>0</th>\n      <td>0.000190</td>\n      <td>0.318704</td>\n      <td>0.005424</td>\n    </tr>\n    <tr>\n      <th>1</th>\n      <td>0.318704</td>\n      <td>110.888925</td>\n      <td>7.703347</td>\n    </tr>\n    <tr>\n      <th>2</th>\n      <td>0.005424</td>\n      <td>7.703347</td>\n      <td>0.154923</td>\n    </tr>\n  </tbody>\n</table>\n</div>"
     },
     "metadata": {},
     "execution_count": 8
    }
   ],
   "source": [
    "chis = epra.get_chis()\n",
    "chis"
   ]
  },
  {
   "cell_type": "markdown",
   "metadata": {},
   "source": [
    "The diagonal elements of the matrix are the anharmonicities $\\alpha_i$ and the off-diagonal elements are the coupling between the modes."
   ]
  },
  {
   "cell_type": "code",
   "execution_count": 9,
   "metadata": {},
   "outputs": [
    {
     "output_type": "display_data",
     "data": {
      "text/plain": "   Anharmonicity (MHz)\n0             0.000190\n1           110.888925\n2             0.154923",
      "text/html": "<div>\n<style scoped>\n    .dataframe tbody tr th:only-of-type {\n        vertical-align: middle;\n    }\n\n    .dataframe tbody tr th {\n        vertical-align: top;\n    }\n\n    .dataframe thead th {\n        text-align: right;\n    }\n</style>\n<table border=\"1\" class=\"dataframe\">\n  <thead>\n    <tr style=\"text-align: right;\">\n      <th></th>\n      <th>Anharmonicity (MHz)</th>\n    </tr>\n  </thead>\n  <tbody>\n    <tr>\n      <th>0</th>\n      <td>0.000190</td>\n    </tr>\n    <tr>\n      <th>1</th>\n      <td>110.888925</td>\n    </tr>\n    <tr>\n      <th>2</th>\n      <td>0.154923</td>\n    </tr>\n  </tbody>\n</table>\n</div>"
     },
     "metadata": {}
    },
    {
     "output_type": "display_data",
     "data": {
      "text/plain": "                  Coupling (MHz)\ncavity-transmon         0.318704\ntransmon-readout        7.703347\ncavity-readout          0.005424",
      "text/html": "<div>\n<style scoped>\n    .dataframe tbody tr th:only-of-type {\n        vertical-align: middle;\n    }\n\n    .dataframe tbody tr th {\n        vertical-align: top;\n    }\n\n    .dataframe thead th {\n        text-align: right;\n    }\n</style>\n<table border=\"1\" class=\"dataframe\">\n  <thead>\n    <tr style=\"text-align: right;\">\n      <th></th>\n      <th>Coupling (MHz)</th>\n    </tr>\n  </thead>\n  <tbody>\n    <tr>\n      <th>cavity-transmon</th>\n      <td>0.318704</td>\n    </tr>\n    <tr>\n      <th>transmon-readout</th>\n      <td>7.703347</td>\n    </tr>\n    <tr>\n      <th>cavity-readout</th>\n      <td>0.005424</td>\n    </tr>\n  </tbody>\n</table>\n</div>"
     },
     "metadata": {}
    }
   ],
   "source": [
    "# anharmonicities\n",
    "alphas = np.diag(chis)\n",
    "alpha_c, alpha_t, alpha_r = alphas\n",
    "\n",
    "# Couplings\n",
    "chi_ct = chis[1][0]  # cavity-transmon\n",
    "chi_cr = chis[0][2]  # cavity-readout\n",
    "chi_tr = chis[1][2]  # transmon-readout\n",
    "\n",
    "display(pd.DataFrame({'Anharmonicity (MHz)': alphas}))\n",
    "display(pd.DataFrame({'Coupling (MHz)': [chi_ct, chi_tr, chi_cr]}, index=['cavity-transmon', 'transmon-readout', 'cavity-readout']))"
   ]
  }
 ],
 "metadata": {
  "kernelspec": {
   "name": "python383jvsc74a57bd0579c51c82e14f7265b3395b2bd8a43518f73a49c7ede32289f7f03f2903e5776",
   "display_name": "Python 3.8.3 64-bit (conda)"
  },
  "language_info": {
   "codemirror_mode": {
    "name": "ipython",
    "version": 3
   },
   "file_extension": ".py",
   "mimetype": "text/x-python",
   "name": "python",
   "nbconvert_exporter": "python",
   "pygments_lexer": "ipython3",
   "version": "3.8.3-final"
  }
 },
 "nbformat": 4,
 "nbformat_minor": 4
}